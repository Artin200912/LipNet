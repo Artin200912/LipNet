{
 "cells": [
  {
   "cell_type": "markdown",
   "metadata": {
    "id": "dHwI17vpYXWE",
    "tags": []
   },
   "source": [
    "# Install and import libraries"
   ]
  },
  {
   "cell_type": "code",
   "execution_count": null,
   "metadata": {
    "colab": {
     "base_uri": "https://localhost:8080/"
    },
    "collapsed": true,
    "id": "YQNa9QkLYyNF",
    "jupyter": {
     "outputs_hidden": true
    },
    "outputId": "461fdf6a-be48-4d06-96c3-c02db0abef04",
    "tags": []
   },
   "outputs": [
    {
     "name": "stdout",
     "output_type": "stream",
     "text": [
      "Package                          Version\n",
      "-------------------------------- ---------------------\n",
      "absl-py                          1.4.0\n",
      "aiohttp                          3.9.5\n",
      "aiosignal                        1.3.1\n",
      "alabaster                        0.7.16\n",
      "albumentations                   1.3.1\n",
      "altair                           4.2.2\n",
      "annotated-types                  0.6.0\n",
      "anyio                            3.7.1\n",
      "appdirs                          1.4.4\n",
      "argon2-cffi                      23.1.0\n",
      "argon2-cffi-bindings             21.2.0\n",
      "array_record                     0.5.1\n",
      "arviz                            0.15.1\n",
      "astropy                          5.3.4\n",
      "astunparse                       1.6.3\n",
      "async-timeout                    4.0.3\n",
      "atpublic                         4.1.0\n",
      "attrs                            23.2.0\n",
      "audioread                        3.0.1\n",
      "autograd                         1.6.2\n",
      "Babel                            2.14.0\n",
      "backcall                         0.2.0\n",
      "beautifulsoup4                   4.12.3\n",
      "bidict                           0.23.1\n",
      "bigframes                        1.4.0\n",
      "bleach                           6.1.0\n",
      "blinker                          1.4\n",
      "blis                             0.7.11\n",
      "blosc2                           2.0.0\n",
      "bokeh                            3.3.4\n",
      "bqplot                           0.12.43\n",
      "branca                           0.7.2\n",
      "build                            1.2.1\n",
      "CacheControl                     0.14.0\n",
      "cachetools                       5.3.3\n",
      "catalogue                        2.0.10\n",
      "certifi                          2024.2.2\n",
      "cffi                             1.16.0\n",
      "chardet                          5.2.0\n",
      "charset-normalizer               3.3.2\n",
      "chex                             0.1.86\n",
      "click                            8.1.7\n",
      "click-plugins                    1.1.1\n",
      "cligj                            0.7.2\n",
      "cloudpathlib                     0.16.0\n",
      "cloudpickle                      2.2.1\n",
      "cmake                            3.27.9\n",
      "cmdstanpy                        1.2.2\n",
      "colorcet                         3.1.0\n",
      "colorlover                       0.3.0\n",
      "colour                           0.1.5\n",
      "community                        1.0.0b1\n",
      "confection                       0.1.4\n",
      "cons                             0.4.6\n",
      "contextlib2                      21.6.0\n",
      "contourpy                        1.2.1\n",
      "cryptography                     42.0.5\n",
      "cufflinks                        0.17.3\n",
      "cupy-cuda12x                     12.2.0\n",
      "cvxopt                           1.3.2\n",
      "cvxpy                            1.3.4\n",
      "cycler                           0.12.1\n",
      "cymem                            2.0.8\n",
      "Cython                           3.0.10\n",
      "dask                             2023.8.1\n",
      "datascience                      0.17.6\n",
      "db-dtypes                        1.2.0\n",
      "dbus-python                      1.2.18\n",
      "debugpy                          1.6.6\n",
      "decorator                        4.4.2\n",
      "defusedxml                       0.7.1\n",
      "distributed                      2023.8.1\n",
      "distro                           1.7.0\n",
      "dlib                             19.24.4\n",
      "dm-tree                          0.1.8\n",
      "docstring_parser                 0.16\n",
      "docutils                         0.18.1\n",
      "dopamine-rl                      4.0.6\n",
      "duckdb                           0.10.2\n",
      "earthengine-api                  0.1.400\n",
      "easydict                         1.13\n",
      "ecos                             2.0.13\n",
      "editdistance                     0.6.2\n",
      "eerepr                           0.0.4\n",
      "en-core-web-sm                   3.7.1\n",
      "entrypoints                      0.4\n",
      "et-xmlfile                       1.1.0\n",
      "etils                            1.7.0\n",
      "etuples                          0.3.9\n",
      "exceptiongroup                   1.2.1\n",
      "fastai                           2.7.15\n",
      "fastcore                         1.5.32\n",
      "fastdownload                     0.0.7\n",
      "fastjsonschema                   2.19.1\n",
      "fastprogress                     1.0.3\n",
      "fastrlock                        0.8.2\n",
      "filelock                         3.14.0\n",
      "fiona                            1.9.6\n",
      "firebase-admin                   5.3.0\n",
      "Flask                            2.2.5\n",
      "flatbuffers                      24.3.25\n",
      "flax                             0.8.3\n",
      "folium                           0.14.0\n",
      "fonttools                        4.51.0\n",
      "frozendict                       2.4.2\n",
      "frozenlist                       1.4.1\n",
      "fsspec                           2023.6.0\n",
      "future                           0.18.3\n",
      "gast                             0.5.4\n",
      "gcsfs                            2023.6.0\n",
      "GDAL                             3.6.4\n",
      "gdown                            5.1.0\n",
      "geemap                           0.32.0\n",
      "gensim                           4.3.2\n",
      "geocoder                         1.38.1\n",
      "geographiclib                    2.0\n",
      "geopandas                        0.13.2\n",
      "geopy                            2.3.0\n",
      "gin-config                       0.5.0\n",
      "glob2                            0.7\n",
      "google                           2.0.3\n",
      "google-ai-generativelanguage     0.6.2\n",
      "google-api-core                  2.11.1\n",
      "google-api-python-client         2.84.0\n",
      "google-auth                      2.27.0\n",
      "google-auth-httplib2             0.1.1\n",
      "google-auth-oauthlib             1.2.0\n",
      "google-cloud-aiplatform          1.48.0\n",
      "google-cloud-bigquery            3.21.0\n",
      "google-cloud-bigquery-connection 1.12.1\n",
      "google-cloud-bigquery-storage    2.24.0\n",
      "google-cloud-core                2.3.3\n",
      "google-cloud-datastore           2.15.2\n",
      "google-cloud-firestore           2.11.1\n",
      "google-cloud-functions           1.13.3\n",
      "google-cloud-iam                 2.15.0\n",
      "google-cloud-language            2.13.3\n",
      "google-cloud-resource-manager    1.12.3\n",
      "google-cloud-storage             2.8.0\n",
      "google-cloud-translate           3.11.3\n",
      "google-colab                     1.0.0\n",
      "google-crc32c                    1.5.0\n",
      "google-generativeai              0.5.2\n",
      "google-pasta                     0.2.0\n",
      "google-resumable-media           2.7.0\n",
      "googleapis-common-protos         1.63.0\n",
      "googledrivedownloader            0.4\n",
      "graphviz                         0.20.3\n",
      "greenlet                         3.0.3\n",
      "grpc-google-iam-v1               0.13.0\n",
      "grpcio                           1.63.0\n",
      "grpcio-status                    1.48.2\n",
      "gspread                          6.0.2\n",
      "gspread-dataframe                3.3.1\n",
      "gym                              0.25.2\n",
      "gym-notices                      0.0.8\n",
      "h5netcdf                         1.3.0\n",
      "h5py                             3.9.0\n",
      "holidays                         0.47\n",
      "holoviews                        1.17.1\n",
      "html5lib                         1.1\n",
      "httpimport                       1.3.1\n",
      "httplib2                         0.22.0\n",
      "huggingface-hub                  0.20.3\n",
      "humanize                         4.7.0\n",
      "hyperopt                         0.2.7\n",
      "ibis-framework                   8.0.0\n",
      "idna                             3.7\n",
      "imageio                          2.31.6\n",
      "imageio-ffmpeg                   0.4.9\n",
      "imagesize                        1.4.1\n",
      "imbalanced-learn                 0.10.1\n",
      "imgaug                           0.4.0\n",
      "importlib_metadata               7.1.0\n",
      "importlib_resources              6.4.0\n",
      "imutils                          0.5.4\n",
      "inflect                          7.0.0\n",
      "iniconfig                        2.0.0\n",
      "intel-openmp                     2023.2.4\n",
      "ipyevents                        2.0.2\n",
      "ipyfilechooser                   0.6.0\n",
      "ipykernel                        5.5.6\n",
      "ipyleaflet                       0.19.0\n",
      "ipython                          7.34.0\n",
      "ipython-genutils                 0.2.0\n",
      "ipython-sql                      0.5.0\n",
      "ipytree                          0.2.2\n",
      "ipywidgets                       7.7.1\n",
      "itsdangerous                     2.2.0\n",
      "jax                              0.4.26\n",
      "jaxlib                           0.4.26+cuda12.cudnn89\n",
      "jeepney                          0.7.1\n",
      "jieba                            0.42.1\n",
      "Jinja2                           3.1.3\n",
      "joblib                           1.4.0\n",
      "jsonpickle                       3.0.4\n",
      "jsonschema                       4.19.2\n",
      "jsonschema-specifications        2023.12.1\n",
      "jupyter-client                   6.1.12\n",
      "jupyter-console                  6.1.0\n",
      "jupyter_core                     5.7.2\n",
      "jupyter-leaflet                  0.19.0\n",
      "jupyter-server                   1.24.0\n",
      "jupyterlab_pygments              0.3.0\n",
      "jupyterlab_widgets               3.0.10\n",
      "kaggle                           1.6.12\n",
      "kagglehub                        0.2.4\n",
      "keras                            2.15.0\n",
      "keyring                          23.5.0\n",
      "kiwisolver                       1.4.5\n",
      "langcodes                        3.4.0\n",
      "language_data                    1.2.0\n",
      "launchpadlib                     1.10.16\n",
      "lazr.restfulclient               0.14.4\n",
      "lazr.uri                         1.0.6\n",
      "lazy_loader                      0.4\n",
      "libclang                         18.1.1\n",
      "librosa                          0.10.1\n",
      "lightgbm                         4.1.0\n",
      "linkify-it-py                    2.0.3\n",
      "llvmlite                         0.41.1\n",
      "locket                           1.0.0\n",
      "logical-unification              0.4.6\n",
      "lxml                             4.9.4\n",
      "malloy                           2023.1067\n",
      "marisa-trie                      1.1.0\n",
      "Markdown                         3.6\n",
      "markdown-it-py                   3.0.0\n",
      "MarkupSafe                       2.1.5\n",
      "matplotlib                       3.7.1\n",
      "matplotlib-inline                0.1.7\n",
      "matplotlib-venn                  0.11.10\n",
      "mdit-py-plugins                  0.4.0\n",
      "mdurl                            0.1.2\n",
      "miniKanren                       1.0.3\n",
      "missingno                        0.5.2\n",
      "mistune                          0.8.4\n",
      "mizani                           0.9.3\n",
      "mkl                              2023.2.0\n",
      "ml-dtypes                        0.2.0\n",
      "mlxtend                          0.22.0\n",
      "more-itertools                   10.1.0\n",
      "moviepy                          1.0.3\n",
      "mpmath                           1.3.0\n",
      "msgpack                          1.0.8\n",
      "multidict                        6.0.5\n",
      "multipledispatch                 1.0.0\n",
      "multitasking                     0.0.11\n",
      "murmurhash                       1.0.10\n",
      "music21                          9.1.0\n",
      "natsort                          8.4.0\n",
      "nbclassic                        1.0.0\n",
      "nbclient                         0.10.0\n",
      "nbconvert                        6.5.4\n",
      "nbformat                         5.10.4\n",
      "nest-asyncio                     1.6.0\n",
      "networkx                         3.3\n",
      "nibabel                          4.0.2\n",
      "nltk                             3.8.1\n",
      "notebook                         6.5.5\n",
      "notebook_shim                    0.2.4\n",
      "numba                            0.58.1\n",
      "numexpr                          2.10.0\n",
      "numpy                            1.25.2\n",
      "oauth2client                     4.1.3\n",
      "oauthlib                         3.2.2\n",
      "opencv-contrib-python            4.8.0.76\n",
      "opencv-python                    4.8.0.76\n",
      "opencv-python-headless           4.9.0.80\n",
      "openpyxl                         3.1.2\n",
      "opt-einsum                       3.3.0\n",
      "optax                            0.2.2\n",
      "orbax-checkpoint                 0.4.4\n",
      "osqp                             0.6.2.post8\n",
      "packaging                        24.0\n",
      "pandas                           2.0.3\n",
      "pandas-datareader                0.10.0\n",
      "pandas-gbq                       0.19.2\n",
      "pandas-stubs                     2.0.3.230814\n",
      "pandocfilters                    1.5.1\n",
      "panel                            1.3.8\n",
      "param                            2.1.0\n",
      "parso                            0.8.4\n",
      "parsy                            2.1\n",
      "partd                            1.4.1\n",
      "pathlib                          1.0.1\n",
      "patsy                            0.5.6\n",
      "peewee                           3.17.3\n",
      "pexpect                          4.9.0\n",
      "pickleshare                      0.7.5\n",
      "Pillow                           9.4.0\n",
      "pip                              23.1.2\n",
      "pip-tools                        6.13.0\n",
      "platformdirs                     4.2.1\n",
      "plotly                           5.15.0\n",
      "plotnine                         0.12.4\n",
      "pluggy                           1.5.0\n",
      "polars                           0.20.2\n",
      "pooch                            1.8.1\n",
      "portpicker                       1.5.2\n",
      "prefetch-generator               1.0.3\n",
      "preshed                          3.0.9\n",
      "prettytable                      3.10.0\n",
      "proglog                          0.1.10\n",
      "progressbar2                     4.2.0\n",
      "prometheus_client                0.20.0\n",
      "promise                          2.3\n",
      "prompt-toolkit                   3.0.43\n",
      "prophet                          1.1.5\n",
      "proto-plus                       1.23.0\n",
      "protobuf                         3.20.3\n",
      "psutil                           5.9.5\n",
      "psycopg2                         2.9.9\n",
      "ptyprocess                       0.7.0\n",
      "py-cpuinfo                       9.0.0\n",
      "py4j                             0.10.9.7\n",
      "pyarrow                          14.0.2\n",
      "pyarrow-hotfix                   0.6\n",
      "pyasn1                           0.6.0\n",
      "pyasn1_modules                   0.4.0\n",
      "pycocotools                      2.0.7\n",
      "pycparser                        2.22\n",
      "pydantic                         2.7.1\n",
      "pydantic_core                    2.18.2\n",
      "pydata-google-auth               1.8.2\n",
      "pydot                            1.4.2\n",
      "pydot-ng                         2.0.0\n",
      "pydotplus                        2.0.2\n",
      "PyDrive                          1.3.1\n",
      "PyDrive2                         1.6.3\n",
      "pyerfa                           2.0.1.4\n",
      "pygame                           2.5.2\n",
      "Pygments                         2.16.1\n",
      "PyGObject                        3.42.1\n",
      "PyJWT                            2.3.0\n",
      "pymc                             5.10.4\n",
      "pymystem3                        0.2.0\n",
      "PyOpenGL                         3.1.7\n",
      "pyOpenSSL                        24.1.0\n",
      "pyparsing                        3.1.2\n",
      "pyperclip                        1.8.2\n",
      "pyproj                           3.6.1\n",
      "pyproject_hooks                  1.1.0\n",
      "pyshp                            2.3.1\n",
      "PySocks                          1.7.1\n",
      "pytensor                         2.18.6\n",
      "pytest                           7.4.4\n",
      "python-apt                       0.0.0\n",
      "python-box                       7.1.1\n",
      "python-dateutil                  2.8.2\n",
      "python-louvain                   0.16\n",
      "python-slugify                   8.0.4\n",
      "python-utils                     3.8.2\n",
      "pytz                             2023.4\n",
      "pyviz_comms                      3.0.2\n",
      "PyWavelets                       1.6.0\n",
      "PyYAML                           6.0.1\n",
      "pyzmq                            24.0.1\n",
      "qdldl                            0.1.7.post2\n",
      "qudida                           0.0.4\n",
      "ratelim                          0.1.6\n",
      "referencing                      0.35.0\n",
      "regex                            2023.12.25\n",
      "requests                         2.31.0\n",
      "requests-oauthlib                1.3.1\n",
      "requirements-parser              0.9.0\n",
      "rich                             13.7.1\n",
      "rpds-py                          0.18.0\n",
      "rpy2                             3.4.2\n",
      "rsa                              4.9\n",
      "safetensors                      0.4.3\n",
      "scikit-image                     0.19.3\n",
      "scikit-learn                     1.2.2\n",
      "scipy                            1.11.4\n",
      "scooby                           0.9.2\n",
      "scs                              3.2.4.post1\n",
      "seaborn                          0.13.1\n",
      "SecretStorage                    3.3.1\n",
      "Send2Trash                       1.8.3\n",
      "sentencepiece                    0.1.99\n",
      "setuptools                       67.7.2\n",
      "shapely                          2.0.4\n",
      "six                              1.16.0\n",
      "sklearn-pandas                   2.2.0\n",
      "smart-open                       6.4.0\n",
      "sniffio                          1.3.1\n",
      "snowballstemmer                  2.2.0\n",
      "sortedcontainers                 2.4.0\n",
      "soundfile                        0.12.1\n",
      "soupsieve                        2.5\n",
      "soxr                             0.3.7\n",
      "spacy                            3.7.4\n",
      "spacy-legacy                     3.0.12\n",
      "spacy-loggers                    1.0.5\n",
      "Sphinx                           5.0.2\n",
      "sphinxcontrib-applehelp          1.0.8\n",
      "sphinxcontrib-devhelp            1.0.6\n",
      "sphinxcontrib-htmlhelp           2.0.5\n",
      "sphinxcontrib-jsmath             1.0.1\n",
      "sphinxcontrib-qthelp             1.0.7\n",
      "sphinxcontrib-serializinghtml    1.1.10\n",
      "SQLAlchemy                       2.0.29\n",
      "sqlglot                          20.11.0\n",
      "sqlparse                         0.5.0\n",
      "srsly                            2.4.8\n",
      "stanio                           0.5.0\n",
      "statsmodels                      0.14.2\n",
      "StrEnum                          0.4.15\n",
      "sympy                            1.12\n",
      "tables                           3.8.0\n",
      "tabulate                         0.9.0\n",
      "tbb                              2021.12.0\n",
      "tblib                            3.0.0\n",
      "tenacity                         8.2.3\n",
      "tensorboard                      2.15.2\n",
      "tensorboard-data-server          0.7.2\n",
      "tensorflow                       2.15.0\n",
      "tensorflow-datasets              4.9.4\n",
      "tensorflow-estimator             2.15.0\n",
      "tensorflow-gcs-config            2.15.0\n",
      "tensorflow-hub                   0.16.1\n",
      "tensorflow-io-gcs-filesystem     0.36.0\n",
      "tensorflow-metadata              1.15.0\n",
      "tensorflow-probability           0.23.0\n",
      "tensorstore                      0.1.45\n",
      "termcolor                        2.4.0\n",
      "terminado                        0.18.1\n",
      "text-unidecode                   1.3\n",
      "textblob                         0.17.1\n",
      "tf_keras                         2.15.1\n",
      "tf-slim                          1.1.0\n",
      "thinc                            8.2.3\n",
      "threadpoolctl                    3.5.0\n",
      "tifffile                         2024.4.24\n",
      "tinycss2                         1.3.0\n",
      "tokenizers                       0.19.1\n",
      "toml                             0.10.2\n",
      "tomli                            2.0.1\n",
      "toolz                            0.12.1\n",
      "torch                            2.2.1+cu121\n",
      "torchaudio                       2.2.1+cu121\n",
      "torchdata                        0.7.1\n",
      "torchsummary                     1.5.1\n",
      "torchtext                        0.17.1\n",
      "torchvision                      0.17.1+cu121\n",
      "tornado                          6.3.3\n",
      "tqdm                             4.66.2\n",
      "traitlets                        5.7.1\n",
      "traittypes                       0.2.1\n",
      "transformers                     4.40.1\n",
      "triton                           2.2.0\n",
      "tweepy                           4.14.0\n",
      "typer                            0.9.4\n",
      "types-pytz                       2024.1.0.20240417\n",
      "types-setuptools                 69.5.0.20240423\n",
      "typing_extensions                4.11.0\n",
      "tzdata                           2024.1\n",
      "tzlocal                          5.2\n",
      "uc-micro-py                      1.0.3\n",
      "uritemplate                      4.1.1\n",
      "urllib3                          2.0.7\n",
      "vega-datasets                    0.9.0\n",
      "wadllib                          1.3.6\n",
      "wasabi                           1.1.2\n",
      "wcwidth                          0.2.13\n",
      "weasel                           0.3.4\n",
      "webcolors                        1.13\n",
      "webencodings                     0.5.1\n",
      "websocket-client                 1.8.0\n",
      "Werkzeug                         3.0.2\n",
      "wheel                            0.43.0\n",
      "widgetsnbextension               3.6.6\n",
      "wordcloud                        1.9.3\n",
      "wrapt                            1.14.1\n",
      "xarray                           2023.7.0\n",
      "xarray-einstats                  0.7.0\n",
      "xgboost                          2.0.3\n",
      "xlrd                             2.0.1\n",
      "xyzservices                      2024.4.0\n",
      "yarl                             1.9.4\n",
      "yellowbrick                      1.5\n",
      "yfinance                         0.2.38\n",
      "zict                             3.0.0\n",
      "zipp                             3.18.1\n"
     ]
    }
   ],
   "source": [
    "!pip list"
   ]
  },
  {
   "cell_type": "code",
   "execution_count": 1,
   "metadata": {
    "colab": {
     "base_uri": "https://localhost:8080/"
    },
    "id": "Xg_zjbIAYclt",
    "outputId": "f4332dfc-e5e7-47b7-8972-fee48c1f8354",
    "tags": []
   },
   "outputs": [
    {
     "name": "stdout",
     "output_type": "stream",
     "text": [
      "Looking in indexes: https://pypi.org/simple, https://pypi.ngc.nvidia.com\n",
      "Requirement already satisfied: tensorflow in /opt/conda/lib/python3.11/site-packages (from -r req.txt (line 1)) (2.15.0)\n",
      "Requirement already satisfied: matplotlib in /opt/conda/lib/python3.11/site-packages (from -r req.txt (line 2)) (3.8.2)\n",
      "Requirement already satisfied: imageio in /opt/conda/lib/python3.11/site-packages (from -r req.txt (line 3)) (2.33.1)\n",
      "Requirement already satisfied: gdown in /opt/conda/lib/python3.11/site-packages (from -r req.txt (line 4)) (5.1.0)\n",
      "Requirement already satisfied: opencv-python in /opt/conda/lib/python3.11/site-packages (from -r req.txt (line 5)) (4.9.0.80)\n",
      "Requirement already satisfied: absl-py>=1.0.0 in /opt/conda/lib/python3.11/site-packages (from tensorflow->-r req.txt (line 1)) (2.1.0)\n",
      "Requirement already satisfied: astunparse>=1.6.0 in /opt/conda/lib/python3.11/site-packages (from tensorflow->-r req.txt (line 1)) (1.6.3)\n",
      "Requirement already satisfied: flatbuffers>=23.5.26 in /opt/conda/lib/python3.11/site-packages (from tensorflow->-r req.txt (line 1)) (23.5.26)\n",
      "Requirement already satisfied: gast!=0.5.0,!=0.5.1,!=0.5.2,>=0.2.1 in /opt/conda/lib/python3.11/site-packages (from tensorflow->-r req.txt (line 1)) (0.5.4)\n",
      "Requirement already satisfied: google-pasta>=0.1.1 in /opt/conda/lib/python3.11/site-packages (from tensorflow->-r req.txt (line 1)) (0.2.0)\n",
      "Requirement already satisfied: h5py>=2.9.0 in /opt/conda/lib/python3.11/site-packages (from tensorflow->-r req.txt (line 1)) (3.10.0)\n",
      "Requirement already satisfied: libclang>=13.0.0 in /opt/conda/lib/python3.11/site-packages (from tensorflow->-r req.txt (line 1)) (16.0.6)\n",
      "Requirement already satisfied: ml-dtypes~=0.2.0 in /opt/conda/lib/python3.11/site-packages (from tensorflow->-r req.txt (line 1)) (0.2.0)\n",
      "Requirement already satisfied: numpy<2.0.0,>=1.23.5 in /opt/conda/lib/python3.11/site-packages (from tensorflow->-r req.txt (line 1)) (1.26.3)\n",
      "Requirement already satisfied: opt-einsum>=2.3.2 in /opt/conda/lib/python3.11/site-packages (from tensorflow->-r req.txt (line 1)) (3.3.0)\n",
      "Requirement already satisfied: packaging in /opt/conda/lib/python3.11/site-packages (from tensorflow->-r req.txt (line 1)) (23.2)\n",
      "Requirement already satisfied: protobuf!=4.21.0,!=4.21.1,!=4.21.2,!=4.21.3,!=4.21.4,!=4.21.5,<5.0.0dev,>=3.20.3 in /opt/conda/lib/python3.11/site-packages (from tensorflow->-r req.txt (line 1)) (4.23.4)\n",
      "Requirement already satisfied: setuptools in /opt/conda/lib/python3.11/site-packages (from tensorflow->-r req.txt (line 1)) (69.0.3)\n",
      "Requirement already satisfied: six>=1.12.0 in /opt/conda/lib/python3.11/site-packages (from tensorflow->-r req.txt (line 1)) (1.16.0)\n",
      "Requirement already satisfied: termcolor>=1.1.0 in /opt/conda/lib/python3.11/site-packages (from tensorflow->-r req.txt (line 1)) (2.4.0)\n",
      "Requirement already satisfied: typing-extensions>=3.6.6 in /opt/conda/lib/python3.11/site-packages (from tensorflow->-r req.txt (line 1)) (4.9.0)\n",
      "Requirement already satisfied: wrapt<1.15,>=1.11.0 in /opt/conda/lib/python3.11/site-packages (from tensorflow->-r req.txt (line 1)) (1.14.1)\n",
      "Requirement already satisfied: tensorflow-io-gcs-filesystem>=0.23.1 in /opt/conda/lib/python3.11/site-packages (from tensorflow->-r req.txt (line 1)) (0.35.0)\n",
      "Requirement already satisfied: grpcio<2.0,>=1.24.3 in /opt/conda/lib/python3.11/site-packages (from tensorflow->-r req.txt (line 1)) (1.60.0)\n",
      "Requirement already satisfied: tensorboard<2.16,>=2.15 in /opt/conda/lib/python3.11/site-packages (from tensorflow->-r req.txt (line 1)) (2.15.1)\n",
      "Requirement already satisfied: tensorflow-estimator<2.16,>=2.15.0 in /opt/conda/lib/python3.11/site-packages (from tensorflow->-r req.txt (line 1)) (2.15.0)\n",
      "Requirement already satisfied: keras<2.16,>=2.15.0 in /opt/conda/lib/python3.11/site-packages (from tensorflow->-r req.txt (line 1)) (2.15.0)\n",
      "Requirement already satisfied: contourpy>=1.0.1 in /opt/conda/lib/python3.11/site-packages (from matplotlib->-r req.txt (line 2)) (1.2.0)\n",
      "Requirement already satisfied: cycler>=0.10 in /opt/conda/lib/python3.11/site-packages (from matplotlib->-r req.txt (line 2)) (0.12.1)\n",
      "Requirement already satisfied: fonttools>=4.22.0 in /opt/conda/lib/python3.11/site-packages (from matplotlib->-r req.txt (line 2)) (4.47.2)\n",
      "Requirement already satisfied: kiwisolver>=1.3.1 in /opt/conda/lib/python3.11/site-packages (from matplotlib->-r req.txt (line 2)) (1.4.5)\n",
      "Requirement already satisfied: pillow>=8 in /opt/conda/lib/python3.11/site-packages (from matplotlib->-r req.txt (line 2)) (10.2.0)\n",
      "Requirement already satisfied: pyparsing>=2.3.1 in /opt/conda/lib/python3.11/site-packages (from matplotlib->-r req.txt (line 2)) (3.1.1)\n",
      "Requirement already satisfied: python-dateutil>=2.7 in /opt/conda/lib/python3.11/site-packages (from matplotlib->-r req.txt (line 2)) (2.8.2)\n",
      "Requirement already satisfied: beautifulsoup4 in /opt/conda/lib/python3.11/site-packages (from gdown->-r req.txt (line 4)) (4.12.3)\n",
      "Requirement already satisfied: filelock in /opt/conda/lib/python3.11/site-packages (from gdown->-r req.txt (line 4)) (3.13.1)\n",
      "Requirement already satisfied: requests[socks] in /opt/conda/lib/python3.11/site-packages (from gdown->-r req.txt (line 4)) (2.31.0)\n",
      "Requirement already satisfied: tqdm in /opt/conda/lib/python3.11/site-packages (from gdown->-r req.txt (line 4)) (4.66.1)\n",
      "Requirement already satisfied: wheel<1.0,>=0.23.0 in /opt/conda/lib/python3.11/site-packages (from astunparse>=1.6.0->tensorflow->-r req.txt (line 1)) (0.42.0)\n",
      "Requirement already satisfied: google-auth<3,>=1.6.3 in /opt/conda/lib/python3.11/site-packages (from tensorboard<2.16,>=2.15->tensorflow->-r req.txt (line 1)) (2.26.2)\n",
      "Requirement already satisfied: google-auth-oauthlib<2,>=0.5 in /opt/conda/lib/python3.11/site-packages (from tensorboard<2.16,>=2.15->tensorflow->-r req.txt (line 1)) (1.2.0)\n",
      "Requirement already satisfied: markdown>=2.6.8 in /opt/conda/lib/python3.11/site-packages (from tensorboard<2.16,>=2.15->tensorflow->-r req.txt (line 1)) (3.5.2)\n",
      "Requirement already satisfied: tensorboard-data-server<0.8.0,>=0.7.0 in /opt/conda/lib/python3.11/site-packages (from tensorboard<2.16,>=2.15->tensorflow->-r req.txt (line 1)) (0.7.2)\n",
      "Requirement already satisfied: werkzeug>=1.0.1 in /opt/conda/lib/python3.11/site-packages (from tensorboard<2.16,>=2.15->tensorflow->-r req.txt (line 1)) (3.0.1)\n",
      "Requirement already satisfied: soupsieve>1.2 in /opt/conda/lib/python3.11/site-packages (from beautifulsoup4->gdown->-r req.txt (line 4)) (2.5)\n",
      "Requirement already satisfied: charset-normalizer<4,>=2 in /opt/conda/lib/python3.11/site-packages (from requests[socks]->gdown->-r req.txt (line 4)) (3.3.2)\n",
      "Requirement already satisfied: idna<4,>=2.5 in /opt/conda/lib/python3.11/site-packages (from requests[socks]->gdown->-r req.txt (line 4)) (3.6)\n",
      "Requirement already satisfied: urllib3<3,>=1.21.1 in /opt/conda/lib/python3.11/site-packages (from requests[socks]->gdown->-r req.txt (line 4)) (2.1.0)\n",
      "Requirement already satisfied: certifi>=2017.4.17 in /opt/conda/lib/python3.11/site-packages (from requests[socks]->gdown->-r req.txt (line 4)) (2023.11.17)\n",
      "Requirement already satisfied: PySocks!=1.5.7,>=1.5.6 in /opt/conda/lib/python3.11/site-packages (from requests[socks]->gdown->-r req.txt (line 4)) (1.7.1)\n",
      "Requirement already satisfied: cachetools<6.0,>=2.0.0 in /opt/conda/lib/python3.11/site-packages (from google-auth<3,>=1.6.3->tensorboard<2.16,>=2.15->tensorflow->-r req.txt (line 1)) (5.3.2)\n",
      "Requirement already satisfied: pyasn1-modules>=0.2.1 in /opt/conda/lib/python3.11/site-packages (from google-auth<3,>=1.6.3->tensorboard<2.16,>=2.15->tensorflow->-r req.txt (line 1)) (0.3.0)\n",
      "Requirement already satisfied: rsa<5,>=3.1.4 in /opt/conda/lib/python3.11/site-packages (from google-auth<3,>=1.6.3->tensorboard<2.16,>=2.15->tensorflow->-r req.txt (line 1)) (4.9)\n",
      "Requirement already satisfied: requests-oauthlib>=0.7.0 in /opt/conda/lib/python3.11/site-packages (from google-auth-oauthlib<2,>=0.5->tensorboard<2.16,>=2.15->tensorflow->-r req.txt (line 1)) (1.3.1)\n",
      "Requirement already satisfied: MarkupSafe>=2.1.1 in /opt/conda/lib/python3.11/site-packages (from werkzeug>=1.0.1->tensorboard<2.16,>=2.15->tensorflow->-r req.txt (line 1)) (2.1.4)\n",
      "Requirement already satisfied: pyasn1<0.6.0,>=0.4.6 in /opt/conda/lib/python3.11/site-packages (from pyasn1-modules>=0.2.1->google-auth<3,>=1.6.3->tensorboard<2.16,>=2.15->tensorflow->-r req.txt (line 1)) (0.5.1)\n",
      "Requirement already satisfied: oauthlib>=3.0.0 in /opt/conda/lib/python3.11/site-packages (from requests-oauthlib>=0.7.0->google-auth-oauthlib<2,>=0.5->tensorboard<2.16,>=2.15->tensorflow->-r req.txt (line 1)) (3.2.2)\n"
     ]
    }
   ],
   "source": [
    "!pip install -r req.txt"
   ]
  },
  {
   "cell_type": "code",
   "execution_count": 2,
   "metadata": {
    "id": "DO2iOz4dZehU",
    "tags": []
   },
   "outputs": [],
   "source": [
    "import os # for directory paths\n",
    "import cv2 # data preproccessing\n",
    "import tensorflow as tf # the AI library\n",
    "import numpy as np # array stuff\n",
    "from typing import List # type annotations\n",
    "import matplotlib.pyplot as plt  # plotting stuff\n",
    "import imageio # useful for videos"
   ]
  },
  {
   "cell_type": "markdown",
   "metadata": {
    "id": "bi0v1tsta-rJ",
    "jp-MarkdownHeadingCollapsed": true,
    "tags": []
   },
   "source": [
    "### enabling memmory growth"
   ]
  },
  {
   "cell_type": "code",
   "execution_count": 3,
   "metadata": {
    "id": "5BPOCwjGbDq7"
   },
   "outputs": [
    {
     "name": "stderr",
     "output_type": "stream",
     "text": [
      "2024-05-03 09:26:28.051630: I external/local_xla/xla/stream_executor/cuda/cuda_executor.cc:901] successful NUMA node read from SysFS had negative value (-1), but there must be at least one NUMA node, so returning NUMA node zero. See more at https://github.com/torvalds/linux/blob/v6.0/Documentation/ABI/testing/sysfs-bus-pci#L344-L355\n",
      "2024-05-03 09:26:28.080093: I external/local_xla/xla/stream_executor/cuda/cuda_executor.cc:901] successful NUMA node read from SysFS had negative value (-1), but there must be at least one NUMA node, so returning NUMA node zero. See more at https://github.com/torvalds/linux/blob/v6.0/Documentation/ABI/testing/sysfs-bus-pci#L344-L355\n",
      "2024-05-03 09:26:28.080379: I external/local_xla/xla/stream_executor/cuda/cuda_executor.cc:901] successful NUMA node read from SysFS had negative value (-1), but there must be at least one NUMA node, so returning NUMA node zero. See more at https://github.com/torvalds/linux/blob/v6.0/Documentation/ABI/testing/sysfs-bus-pci#L344-L355\n"
     ]
    }
   ],
   "source": [
    "gpus = tf.config.list_physical_devices('GPU')\n",
    "for gpu in gpus:\n",
    "  tf.config.experimental.set_memory_growth(gpu, True)"
   ]
  },
  {
   "cell_type": "markdown",
   "metadata": {
    "id": "0Qu1TUKJYrr1",
    "tags": []
   },
   "source": [
    "# Loading data and building functions"
   ]
  },
  {
   "cell_type": "code",
   "execution_count": 4,
   "metadata": {
    "id": "vIjPXZA9Yx_t",
    "tags": []
   },
   "outputs": [],
   "source": [
    "import gdown"
   ]
  },
  {
   "cell_type": "markdown",
   "metadata": {
    "id": "XrmmwAQBgQlJ",
    "tags": []
   },
   "source": [
    "### Loading and Normalizing the values in them"
   ]
  },
  {
   "cell_type": "code",
   "execution_count": 3,
   "metadata": {
    "id": "quCwZEysc4oH",
    "tags": []
   },
   "outputs": [],
   "source": [
    "def load_video(path:str) -> List[float]:\n",
    "    # Initialize video capture object\n",
    "    cap = cv2.VideoCapture(path)\n",
    "    # Initialize an empty list to store frames\n",
    "    frames = []\n",
    "    # Iterate over each frame in the video\n",
    "    for _ in range(int(cap.get(cv2.CAP_PROP_FRAME_COUNT))):\n",
    "        # Read the next frame from the video\n",
    "        ret, frame = cap.read()\n",
    "        # Convert RGB frame to grayscale\n",
    "        frame = tf.image.rgb_to_grayscale(frame)\n",
    "        # Crop a specific region of interest within the frame\n",
    "        cropped_frame = frame[190:236, 80:220, :]\n",
    "        # Append the cropped frame to the list of frames\n",
    "        frames.append(cropped_frame)\n",
    "    # Release the video capture object\n",
    "    cap.release()\n",
    "    # Calculate the mean value of all frames\n",
    "    mean = tf.math.reduce_mean(frames)\n",
    "    # Calculate the standard deviation of the frames\n",
    "    std = tf.math.reduce_std(tf.cast(frames, tf.float32))\n",
    "    # Normalize each frame by subtracting the mean and dividing by the standard deviation\n",
    "    normalized_frames = tf.cast((frames - mean), tf.float32) / std\n",
    "    # Return the list of normalized frames\n",
    "    return normalized_frames"
   ]
  },
  {
   "cell_type": "markdown",
   "metadata": {
    "id": "pqrIukfDhR7L"
   },
   "source": [
    "### Define vocab"
   ]
  },
  {
   "cell_type": "code",
   "execution_count": 4,
   "metadata": {
    "id": "s8bj1iDagyLL",
    "tags": []
   },
   "outputs": [],
   "source": [
    "vocab = [x for x in \"abcdefghijklmnopqrstuvwxyz'?!123456789\"]  # python list comprehension, it goes and iterates over each string specified as x and puts it as an element in the list"
   ]
  },
  {
   "cell_type": "code",
   "execution_count": 5,
   "metadata": {
    "colab": {
     "base_uri": "https://localhost:8080/"
    },
    "collapsed": true,
    "id": "WITsDaO8h8YR",
    "jupyter": {
     "outputs_hidden": true
    },
    "outputId": "460704e9-c3e0-4f23-e002-00fbf3e01acd",
    "tags": []
   },
   "outputs": [
    {
     "data": {
      "text/plain": [
       "['a',\n",
       " 'b',\n",
       " 'c',\n",
       " 'd',\n",
       " 'e',\n",
       " 'f',\n",
       " 'g',\n",
       " 'h',\n",
       " 'i',\n",
       " 'j',\n",
       " 'k',\n",
       " 'l',\n",
       " 'm',\n",
       " 'n',\n",
       " 'o',\n",
       " 'p',\n",
       " 'q',\n",
       " 'r',\n",
       " 's',\n",
       " 't',\n",
       " 'u',\n",
       " 'v',\n",
       " 'w',\n",
       " 'x',\n",
       " 'y',\n",
       " 'z',\n",
       " \"'\",\n",
       " '?',\n",
       " '!',\n",
       " '1',\n",
       " '2',\n",
       " '3',\n",
       " '4',\n",
       " '5',\n",
       " '6',\n",
       " '7',\n",
       " '8',\n",
       " '9']"
      ]
     },
     "execution_count": 5,
     "metadata": {},
     "output_type": "execute_result"
    }
   ],
   "source": [
    "vocab"
   ]
  },
  {
   "cell_type": "markdown",
   "metadata": {
    "id": "u5DTDYTXu3zM",
    "tags": []
   },
   "source": [
    "### creating the tokenizer"
   ]
  },
  {
   "cell_type": "code",
   "execution_count": 7,
   "metadata": {
    "colab": {
     "base_uri": "https://localhost:8080/"
    },
    "id": "otlK2NiGiLZq",
    "outputId": "48b0f227-9242-4584-aa71-885f11c1c3dd"
   },
   "outputs": [
    {
     "name": "stdout",
     "output_type": "stream",
     "text": [
      "The vocabulary is: ['', 'a', 'b', 'c', 'd', 'e', 'f', 'g', 'h', 'i', 'j', 'k', 'l', 'm', 'n', 'o', 'p', 'q', 'r', 's', 't', 'u', 'v', 'w', 'x', 'y', 'z', \"'\", '?', '!', '1', '2', '3', '4', '5', '6', '7', '8', '9'] (size =39)\n"
     ]
    }
   ],
   "source": [
    "char_to_num = tf.keras.layers.StringLookup(vocabulary=vocab, oov_token=\"\")\n",
    "num_to_char = tf.keras.layers.StringLookup(\n",
    "    vocabulary=char_to_num.get_vocabulary(), oov_token=\"\", invert=True\n",
    ")\n",
    "\n",
    "print(\n",
    "    f\"The vocabulary is: {char_to_num.get_vocabulary()} \"\n",
    "    f\"(size ={char_to_num.vocabulary_size()})\"\n",
    ")"
   ]
  },
  {
   "cell_type": "code",
   "execution_count": 9,
   "metadata": {
    "colab": {
     "base_uri": "https://localhost:8080/"
    },
    "id": "aCwbp2nkwFRi",
    "outputId": "af8b7569-6c12-4a48-c142-5e81cb3b8b3a"
   },
   "outputs": [
    {
     "data": {
      "text/plain": [
       "(keras.src.layers.preprocessing.string_lookup.StringLookup,\n",
       " keras.src.layers.preprocessing.string_lookup.StringLookup)"
      ]
     },
     "execution_count": 9,
     "metadata": {},
     "output_type": "execute_result"
    }
   ],
   "source": [
    "type(char_to_num), type(num_to_char)"
   ]
  },
  {
   "cell_type": "code",
   "execution_count": 10,
   "metadata": {
    "id": "XvcjeuZqvL2m"
   },
   "outputs": [],
   "source": [
    "test = [x for x in 'artin']"
   ]
  },
  {
   "cell_type": "code",
   "execution_count": 11,
   "metadata": {
    "colab": {
     "base_uri": "https://localhost:8080/"
    },
    "id": "-9_d8DE8uw29",
    "outputId": "60014672-5917-4840-b62f-7a3d0cf0739a"
   },
   "outputs": [
    {
     "data": {
      "text/plain": [
       "<tf.Tensor: shape=(5,), dtype=int64, numpy=array([ 1, 18, 20,  9, 14])>"
      ]
     },
     "execution_count": 11,
     "metadata": {},
     "output_type": "execute_result"
    }
   ],
   "source": [
    "char_to_num(test)"
   ]
  },
  {
   "cell_type": "code",
   "execution_count": 12,
   "metadata": {
    "colab": {
     "base_uri": "https://localhost:8080/"
    },
    "id": "GgKws0vfvgHo",
    "outputId": "1e528af1-b984-4f6c-fbdd-8fee7b562550"
   },
   "outputs": [
    {
     "data": {
      "text/plain": [
       "<tf.Tensor: shape=(5,), dtype=string, numpy=array([b'a', b'r', b't', b'i', b'n'], dtype=object)>"
      ]
     },
     "execution_count": 12,
     "metadata": {},
     "output_type": "execute_result"
    }
   ],
   "source": [
    "num_to_char(char_to_num(test))"
   ]
  },
  {
   "cell_type": "markdown",
   "metadata": {
    "id": "R1sQEVS-xDDQ"
   },
   "source": [
    "### converting the alignments into a list of strings"
   ]
  },
  {
   "cell_type": "code",
   "execution_count": 13,
   "metadata": {
    "colab": {
     "base_uri": "https://localhost:8080/"
    },
    "id": "BPEPrBxKyEEJ",
    "outputId": "07188c3b-1013-4a2d-cfb0-f9dbb8545eb8"
   },
   "outputs": [
    {
     "data": {
      "text/plain": [
       "<tf.Tensor: shape=(16,), dtype=int64, numpy=array([ 2,  9, 14,  2, 12, 21,  5,  1, 20,  6, 20, 23, 15, 14, 15, 23])>"
      ]
     },
     "execution_count": 13,
     "metadata": {},
     "output_type": "execute_result"
    }
   ],
   "source": [
    "test = [x for x in 'binblueatftwonow']\n",
    "char_to_num(test)"
   ]
  },
  {
   "cell_type": "code",
   "execution_count": 8,
   "metadata": {
    "id": "hIeFAfpgvAxb"
   },
   "outputs": [],
   "source": [
    "def load_alignments(path:str) -> List[str]:\n",
    "    with open(path, 'r') as f:\n",
    "        lines = f.readlines()\n",
    "    tokens = []\n",
    "    for line in lines:\n",
    "        line = line.split()\n",
    "        if line[2] != 'sil':\n",
    "            tokens = [*tokens,' ',line[2]]\n",
    "    return char_to_num(tf.reshape(tf.strings.unicode_split(tokens, input_encoding='UTF-8'), (-1)))[1:]"
   ]
  },
  {
   "cell_type": "code",
   "execution_count": 15,
   "metadata": {
    "colab": {
     "base_uri": "https://localhost:8080/"
    },
    "id": "KaFGO-muxIba",
    "outputId": "415edecd-8fa4-4e8e-fe21-289223180058"
   },
   "outputs": [
    {
     "data": {
      "text/plain": [
       "<tf.Tensor: shape=(21,), dtype=int64, numpy=\n",
       "array([ 2,  9, 14,  0,  2, 12, 21,  5,  0,  1, 20,  0,  6,  0, 20, 23, 15,\n",
       "        0, 14, 15, 23])>"
      ]
     },
     "execution_count": 15,
     "metadata": {},
     "output_type": "execute_result"
    }
   ],
   "source": [
    "load_alignments('data/alignments/s1/bbaf2n.align')"
   ]
  },
  {
   "cell_type": "markdown",
   "metadata": {
    "id": "3BsJRG69y_CH"
   },
   "source": [
    "### Converting the video and the aligments to only have the mouth part of the video and tokenized alignments"
   ]
  },
  {
   "cell_type": "code",
   "execution_count": 10,
   "metadata": {
    "id": "05mlsoQcxjBx"
   },
   "outputs": [],
   "source": [
    "def load_data(path: str):\n",
    "    path = bytes.decode(path.numpy())\n",
    "    file_name = path.split('/')[-1].split('.')[0]\n",
    "    # File name splitting for windows\n",
    "    #file_name = path.split('\\\\')[-1].split('.')[0]\n",
    "    video_path = os.path.join('data','s1',f'{file_name}.mpg')\n",
    "    alignment_path = os.path.join('data','alignments','s1',f'{file_name}.align')\n",
    "    frames = load_video(video_path)\n",
    "    alignments = load_alignments(alignment_path)\n",
    "\n",
    "    return frames, alignments"
   ]
  },
  {
   "cell_type": "code",
   "execution_count": 17,
   "metadata": {
    "id": "keluwys3zqEv"
   },
   "outputs": [],
   "source": [
    "test_path = os.path.join('data', 's1', 'bbal6n.mpg')"
   ]
  },
  {
   "cell_type": "code",
   "execution_count": 18,
   "metadata": {
    "colab": {
     "base_uri": "https://localhost:8080/"
    },
    "id": "8Osp898f335l",
    "outputId": "13908209-4f7c-4ab4-a960-67744f1adef4"
   },
   "outputs": [
    {
     "data": {
      "text/plain": [
       "'bbal6n'"
      ]
     },
     "execution_count": 18,
     "metadata": {},
     "output_type": "execute_result"
    }
   ],
   "source": [
    "tf.convert_to_tensor(test_path).numpy().decode('utf-8').split('/')[-1].split('.')[0]"
   ]
  },
  {
   "cell_type": "code",
   "execution_count": 19,
   "metadata": {
    "colab": {
     "base_uri": "https://localhost:8080/"
    },
    "id": "XTaFFPAG1lzd",
    "outputId": "0fe2e271-a66a-4f60-e3f9-1365f07812dc"
   },
   "outputs": [
    {
     "data": {
      "text/plain": [
       "'data/s1/bbal6n.mpg'"
      ]
     },
     "execution_count": 19,
     "metadata": {},
     "output_type": "execute_result"
    }
   ],
   "source": [
    "test_path"
   ]
  },
  {
   "cell_type": "code",
   "execution_count": 20,
   "metadata": {
    "colab": {
     "base_uri": "https://localhost:8080/"
    },
    "id": "-6Asev_i2EKN",
    "outputId": "2e91b0c4-3fd1-4b70-ae3e-f3815841863c"
   },
   "outputs": [
    {
     "data": {
      "text/plain": [
       "<tf.Tensor: shape=(), dtype=string, numpy=b'data/s1/bbal6n.mpg'>"
      ]
     },
     "execution_count": 20,
     "metadata": {},
     "output_type": "execute_result"
    }
   ],
   "source": [
    "tf.convert_to_tensor(test_path)"
   ]
  },
  {
   "cell_type": "code",
   "execution_count": 21,
   "metadata": {
    "id": "vZgA4DyC1npb"
   },
   "outputs": [],
   "source": [
    "frames, alignments = load_data(tf.convert_to_tensor(test_path))"
   ]
  },
  {
   "cell_type": "code",
   "execution_count": 22,
   "metadata": {
    "colab": {
     "base_uri": "https://localhost:8080/"
    },
    "collapsed": true,
    "id": "_OinB6y56V-n",
    "jupyter": {
     "outputs_hidden": true
    },
    "outputId": "4f79adb7-af1e-49e6-fd00-adbde9174da8",
    "tags": []
   },
   "outputs": [
    {
     "data": {
      "text/plain": [
       "<tf.Tensor: shape=(75, 46, 140, 1), dtype=float32, numpy=\n",
       "array([[[[ 1.460374  ],\n",
       "         [ 1.460374  ],\n",
       "         [ 1.4209044 ],\n",
       "         ...,\n",
       "         [ 0.15787826],\n",
       "         [ 0.19734783],\n",
       "         [ 0.07893913]],\n",
       "\n",
       "        [[ 1.460374  ],\n",
       "         [ 1.460374  ],\n",
       "         [ 1.4209044 ],\n",
       "         ...,\n",
       "         [ 0.15787826],\n",
       "         [ 0.07893913],\n",
       "         [ 0.03946957]],\n",
       "\n",
       "        [[ 1.4209044 ],\n",
       "         [ 1.4209044 ],\n",
       "         [ 1.3814349 ],\n",
       "         ...,\n",
       "         [ 0.07893913],\n",
       "         [ 0.07893913],\n",
       "         [ 0.07893913]],\n",
       "\n",
       "        ...,\n",
       "\n",
       "        [[ 0.9472696 ],\n",
       "         [ 0.9472696 ],\n",
       "         [ 0.9472696 ],\n",
       "         ...,\n",
       "         [ 9.946331  ],\n",
       "         [ 9.867392  ],\n",
       "         [ 9.867392  ]],\n",
       "\n",
       "        [[ 0.9472696 ],\n",
       "         [ 0.9472696 ],\n",
       "         [ 0.9472696 ],\n",
       "         ...,\n",
       "         [ 9.906861  ],\n",
       "         [ 9.867392  ],\n",
       "         [ 9.867392  ]],\n",
       "\n",
       "        [[ 0.9472696 ],\n",
       "         [ 0.9472696 ],\n",
       "         [ 0.9472696 ],\n",
       "         ...,\n",
       "         [ 9.906861  ],\n",
       "         [ 9.867392  ],\n",
       "         [ 9.867392  ]]],\n",
       "\n",
       "\n",
       "       [[[ 1.4209044 ],\n",
       "         [ 1.4209044 ],\n",
       "         [ 1.3419653 ],\n",
       "         ...,\n",
       "         [ 0.19734783],\n",
       "         [ 0.1184087 ],\n",
       "         [ 0.15787826]],\n",
       "\n",
       "        [[ 1.4209044 ],\n",
       "         [ 1.4209044 ],\n",
       "         [ 1.3419653 ],\n",
       "         ...,\n",
       "         [ 0.2368174 ],\n",
       "         [ 0.        ],\n",
       "         [ 0.03946957]],\n",
       "\n",
       "        [[ 1.3419653 ],\n",
       "         [ 1.3419653 ],\n",
       "         [ 1.3024957 ],\n",
       "         ...,\n",
       "         [ 0.1184087 ],\n",
       "         [ 0.15787826],\n",
       "         [ 0.15787826]],\n",
       "\n",
       "        ...,\n",
       "\n",
       "        [[ 0.9472696 ],\n",
       "         [ 0.9472696 ],\n",
       "         [ 0.9472696 ],\n",
       "         ...,\n",
       "         [10.02527   ],\n",
       "         [ 9.946331  ],\n",
       "         [ 9.946331  ]],\n",
       "\n",
       "        [[ 0.9078001 ],\n",
       "         [ 0.9078001 ],\n",
       "         [ 0.9078001 ],\n",
       "         ...,\n",
       "         [ 9.946331  ],\n",
       "         [ 9.906861  ],\n",
       "         [ 9.906861  ]],\n",
       "\n",
       "        [[ 0.9078001 ],\n",
       "         [ 0.9078001 ],\n",
       "         [ 0.9078001 ],\n",
       "         ...,\n",
       "         [ 9.946331  ],\n",
       "         [ 9.906861  ],\n",
       "         [ 9.906861  ]]],\n",
       "\n",
       "\n",
       "       [[[ 1.4209044 ],\n",
       "         [ 1.4209044 ],\n",
       "         [ 1.3419653 ],\n",
       "         ...,\n",
       "         [ 0.15787826],\n",
       "         [ 0.07893913],\n",
       "         [ 0.15787826]],\n",
       "\n",
       "        [[ 1.4209044 ],\n",
       "         [ 1.4209044 ],\n",
       "         [ 1.3419653 ],\n",
       "         ...,\n",
       "         [ 0.27628696],\n",
       "         [ 0.03946957],\n",
       "         [ 0.15787826]],\n",
       "\n",
       "        [[ 1.3419653 ],\n",
       "         [ 1.3024957 ],\n",
       "         [ 1.3419653 ],\n",
       "         ...,\n",
       "         [ 0.1184087 ],\n",
       "         [ 0.1184087 ],\n",
       "         [ 0.1184087 ]],\n",
       "\n",
       "        ...,\n",
       "\n",
       "        [[ 0.98673916],\n",
       "         [ 0.98673916],\n",
       "         [ 0.9472696 ],\n",
       "         ...,\n",
       "         [ 9.985801  ],\n",
       "         [ 9.985801  ],\n",
       "         [ 9.985801  ]],\n",
       "\n",
       "        [[ 0.9472696 ],\n",
       "         [ 0.9472696 ],\n",
       "         [ 0.9078001 ],\n",
       "         ...,\n",
       "         [ 9.946331  ],\n",
       "         [ 9.906861  ],\n",
       "         [ 9.906861  ]],\n",
       "\n",
       "        [[ 0.9472696 ],\n",
       "         [ 0.9472696 ],\n",
       "         [ 0.9078001 ],\n",
       "         ...,\n",
       "         [ 9.946331  ],\n",
       "         [ 9.906861  ],\n",
       "         [ 9.906861  ]]],\n",
       "\n",
       "\n",
       "       ...,\n",
       "\n",
       "\n",
       "       [[[ 1.3814349 ],\n",
       "         [ 1.3814349 ],\n",
       "         [ 1.4209044 ],\n",
       "         ...,\n",
       "         [ 0.19734783],\n",
       "         [ 0.15787826],\n",
       "         [ 0.07893913]],\n",
       "\n",
       "        [[ 1.3814349 ],\n",
       "         [ 1.3814349 ],\n",
       "         [ 1.4209044 ],\n",
       "         ...,\n",
       "         [ 0.1184087 ],\n",
       "         [ 0.1184087 ],\n",
       "         [ 0.07893913]],\n",
       "\n",
       "        [[ 1.3024957 ],\n",
       "         [ 1.3024957 ],\n",
       "         [ 1.3024957 ],\n",
       "         ...,\n",
       "         [ 0.1184087 ],\n",
       "         [ 0.1184087 ],\n",
       "         [ 0.15787826]],\n",
       "\n",
       "        ...,\n",
       "\n",
       "        [[ 0.98673916],\n",
       "         [ 0.9472696 ],\n",
       "         [ 0.9472696 ],\n",
       "         ...,\n",
       "         [ 9.906861  ],\n",
       "         [ 9.867392  ],\n",
       "         [ 9.867392  ]],\n",
       "\n",
       "        [[ 0.9472696 ],\n",
       "         [ 0.9472696 ],\n",
       "         [ 0.9472696 ],\n",
       "         ...,\n",
       "         [ 9.906861  ],\n",
       "         [ 9.867392  ],\n",
       "         [ 9.867392  ]],\n",
       "\n",
       "        [[ 0.9472696 ],\n",
       "         [ 0.9472696 ],\n",
       "         [ 0.9472696 ],\n",
       "         ...,\n",
       "         [ 9.906861  ],\n",
       "         [ 9.867392  ],\n",
       "         [ 9.867392  ]]],\n",
       "\n",
       "\n",
       "       [[[ 1.3419653 ],\n",
       "         [ 1.3419653 ],\n",
       "         [ 1.3814349 ],\n",
       "         ...,\n",
       "         [ 0.15787826],\n",
       "         [ 0.07893913],\n",
       "         [ 0.        ]],\n",
       "\n",
       "        [[ 1.3419653 ],\n",
       "         [ 1.3419653 ],\n",
       "         [ 1.3814349 ],\n",
       "         ...,\n",
       "         [ 0.15787826],\n",
       "         [ 0.1184087 ],\n",
       "         [ 0.03946957]],\n",
       "\n",
       "        [[ 1.3024957 ],\n",
       "         [ 1.3024957 ],\n",
       "         [ 1.3024957 ],\n",
       "         ...,\n",
       "         [ 0.1184087 ],\n",
       "         [ 0.07893913],\n",
       "         [ 0.1184087 ]],\n",
       "\n",
       "        ...,\n",
       "\n",
       "        [[ 0.9472696 ],\n",
       "         [ 0.9078001 ],\n",
       "         [ 0.9078001 ],\n",
       "         ...,\n",
       "         [ 9.867392  ],\n",
       "         [ 9.827922  ],\n",
       "         [ 9.827922  ]],\n",
       "\n",
       "        [[ 0.9078001 ],\n",
       "         [ 0.9078001 ],\n",
       "         [ 0.9078001 ],\n",
       "         ...,\n",
       "         [ 9.867392  ],\n",
       "         [ 9.827922  ],\n",
       "         [ 9.827922  ]],\n",
       "\n",
       "        [[ 0.9078001 ],\n",
       "         [ 0.9078001 ],\n",
       "         [ 0.9078001 ],\n",
       "         ...,\n",
       "         [ 9.867392  ],\n",
       "         [ 9.827922  ],\n",
       "         [ 9.827922  ]]],\n",
       "\n",
       "\n",
       "       [[[ 1.3024957 ],\n",
       "         [ 1.3024957 ],\n",
       "         [ 1.3814349 ],\n",
       "         ...,\n",
       "         [ 0.07893913],\n",
       "         [ 0.07893913],\n",
       "         [ 0.15787826]],\n",
       "\n",
       "        [[ 1.3024957 ],\n",
       "         [ 1.3024957 ],\n",
       "         [ 1.3814349 ],\n",
       "         ...,\n",
       "         [ 0.        ],\n",
       "         [ 0.07893913],\n",
       "         [ 0.2368174 ]],\n",
       "\n",
       "        [[ 1.3419653 ],\n",
       "         [ 1.3419653 ],\n",
       "         [ 1.3419653 ],\n",
       "         ...,\n",
       "         [ 0.07893913],\n",
       "         [ 0.07893913],\n",
       "         [ 0.07893913]],\n",
       "\n",
       "        ...,\n",
       "\n",
       "        [[ 0.9078001 ],\n",
       "         [ 0.9078001 ],\n",
       "         [ 0.9078001 ],\n",
       "         ...,\n",
       "         [ 9.906861  ],\n",
       "         [ 9.867392  ],\n",
       "         [ 9.867392  ]],\n",
       "\n",
       "        [[ 0.9078001 ],\n",
       "         [ 0.9078001 ],\n",
       "         [ 0.9078001 ],\n",
       "         ...,\n",
       "         [ 9.946331  ],\n",
       "         [ 9.867392  ],\n",
       "         [ 9.867392  ]],\n",
       "\n",
       "        [[ 0.9078001 ],\n",
       "         [ 0.9078001 ],\n",
       "         [ 0.9078001 ],\n",
       "         ...,\n",
       "         [ 9.946331  ],\n",
       "         [ 9.867392  ],\n",
       "         [ 9.867392  ]]]], dtype=float32)>"
      ]
     },
     "execution_count": 22,
     "metadata": {},
     "output_type": "execute_result"
    }
   ],
   "source": [
    "frames"
   ]
  },
  {
   "cell_type": "code",
   "execution_count": 23,
   "metadata": {
    "colab": {
     "base_uri": "https://localhost:8080/"
    },
    "id": "MgPIN9TS6rX9",
    "outputId": "e00a02cf-047a-4ed2-cc7f-120e6e5bea71"
   },
   "outputs": [
    {
     "data": {
      "text/plain": [
       "array([ 2,  9, 14,  0,  2, 12, 21,  5,  0,  1, 20,  0, 12,  0, 19,  9, 24,\n",
       "        0, 14, 15, 23])"
      ]
     },
     "execution_count": 23,
     "metadata": {},
     "output_type": "execute_result"
    }
   ],
   "source": [
    "alignments.numpy()"
   ]
  },
  {
   "cell_type": "code",
   "execution_count": 24,
   "metadata": {
    "colab": {
     "base_uri": "https://localhost:8080/"
    },
    "id": "9i-hDxci6wHW",
    "outputId": "1f29f33b-658f-414f-fa57-39f7fcd49972"
   },
   "outputs": [
    {
     "data": {
      "text/plain": [
       "<matplotlib.image.AxesImage at 0x7efc82980f90>"
      ]
     },
     "execution_count": 24,
     "metadata": {},
     "output_type": "execute_result"
    },
    {
     "data": {
      "image/png": "[encoded data removed]",
      "text/plain": [
       "<Figure size 640x480 with 1 Axes>"
      ]
     },
     "metadata": {},
     "output_type": "display_data"
    }
   ],
   "source": [
    "plt.imshow(frames[0])"
   ]
  },
  {
   "cell_type": "code",
   "execution_count": 25,
   "metadata": {
    "colab": {
     "base_uri": "https://localhost:8080/"
    },
    "id": "BNchjYZT7OsP",
    "outputId": "6bdabf59-461e-4b9e-b309-9cc968e46437"
   },
   "outputs": [
    {
     "data": {
      "text/plain": [
       "<matplotlib.image.AxesImage at 0x7efc8007bd90>"
      ]
     },
     "execution_count": 25,
     "metadata": {},
     "output_type": "execute_result"
    },
    {
     "data": {
      "image/png": "[encoded data removed]",
      "text/plain": [
       "<Figure size 640x480 with 1 Axes>"
      ]
     },
     "metadata": {},
     "output_type": "display_data"
    }
   ],
   "source": [
    "plt.imshow(frames[40])"
   ]
  },
  {
   "cell_type": "code",
   "execution_count": 26,
   "metadata": {
    "colab": {
     "base_uri": "https://localhost:8080/"
    },
    "id": "3Qt0jQQx7tVu",
    "outputId": "54f9e577-8fc9-4a3b-f6f7-786c40a5d114"
   },
   "outputs": [
    {
     "data": {
      "text/plain": [
       "b'binblueatlsixnow'"
      ]
     },
     "execution_count": 26,
     "metadata": {},
     "output_type": "execute_result"
    }
   ],
   "source": [
    "tf.strings.reduce_join(num_to_char(alignments).numpy()).numpy()"
   ]
  },
  {
   "cell_type": "markdown",
   "metadata": {
    "id": "L1F_TCD_6Hnm"
   },
   "source": [
    "### Creating the mappble function"
   ]
  },
  {
   "cell_type": "code",
   "execution_count": 27,
   "metadata": {
    "colab": {
     "base_uri": "https://localhost:8080/"
    },
    "id": "QbuXfXi592-S",
    "outputId": "960563b0-2a53-44e0-f598-a06deda9c00b"
   },
   "outputs": [
    {
     "name": "stdout",
     "output_type": "stream",
     "text": [
      "['b', 'i', 'n', '', 'b', 'l', 'u', 'e', '', 'a', 't', '', 'l', '', 's', 'i', 'x', '', 'n', 'o', 'w']\n"
     ]
    }
   ],
   "source": [
    "print([bytes.decode(x) for x in num_to_char(alignments.numpy()).numpy()])"
   ]
  },
  {
   "cell_type": "code",
   "execution_count": 28,
   "metadata": {
    "colab": {
     "base_uri": "https://localhost:8080/"
    },
    "id": "ncJK89a5BKlv",
    "outputId": "19db6076-65ad-48a1-dce7-078938e9aa03"
   },
   "outputs": [
    {
     "data": {
      "text/plain": [
       "b'b i n  b l u e  a t  l  s i x  n o w'"
      ]
     },
     "execution_count": 28,
     "metadata": {},
     "output_type": "execute_result"
    }
   ],
   "source": [
    "tf.strings.reduce_join([bytes.decode(x) for x in num_to_char(alignments.numpy()).numpy()], separator=' ').numpy()"
   ]
  },
  {
   "cell_type": "code",
   "execution_count": 11,
   "metadata": {
    "id": "ssA_lEpm6qqI"
   },
   "outputs": [],
   "source": [
    "def mappable_function(path:str) ->List[str]:\n",
    "  result = tf.py_function(load_data, [path], (tf.float32, tf.int64))\n",
    "  return result"
   ]
  },
  {
   "cell_type": "markdown",
   "metadata": {
    "id": "qaJDi1C1E8XV",
    "tags": []
   },
   "source": [
    "# Creating the data pipeline"
   ]
  },
  {
   "cell_type": "code",
   "execution_count": 12,
   "metadata": {
    "id": "fKMtHjqn2wuB"
   },
   "outputs": [],
   "source": [
    "data = tf.data.Dataset.list_files('./data/s1/*.mpg')\n",
    "data = data.shuffle(500, reshuffle_each_iteration=False)\n",
    "data = data.map(mappable_function)\n",
    "data = data.padded_batch(2, padded_shapes=([75,None,None,None],[41]))\n",
    "data = data.prefetch(tf.data.AUTOTUNE)\n",
    "# Added for split \n",
    "train = data.take(450)\n",
    "test = data.skip(450)"
   ]
  },
  {
   "cell_type": "code",
   "execution_count": 95,
   "metadata": {
    "colab": {
     "base_uri": "https://localhost:8080/"
    },
    "id": "f_Fhwg9WF12Q",
    "outputId": "b6083858-1be7-4778-e461-68e3774ba977"
   },
   "outputs": [
    {
     "data": {
      "text/plain": [
       "(450, 50)"
      ]
     },
     "execution_count": 95,
     "metadata": {},
     "output_type": "execute_result"
    }
   ],
   "source": [
    "len(train), len(test)"
   ]
  },
  {
   "cell_type": "code",
   "execution_count": 96,
   "metadata": {
    "colab": {
     "base_uri": "https://localhost:8080/"
    },
    "collapsed": true,
    "id": "Ej7H1Yn1JQd9",
    "jupyter": {
     "outputs_hidden": true
    },
    "outputId": "7fee2a27-5af4-46fb-b0a6-678eb3f43f19",
    "tags": []
   },
   "outputs": [
    {
     "data": {
      "text/plain": [
       "(array([[[[[1.3565297 ],\n",
       "           [1.3565297 ],\n",
       "           [1.3931926 ],\n",
       "           ...,\n",
       "           [0.40329263],\n",
       "           [0.3299667 ],\n",
       "           [0.3299667 ]],\n",
       " \n",
       "          [[1.2832038 ],\n",
       "           [1.2832038 ],\n",
       "           [1.3931926 ],\n",
       "           ...,\n",
       "           [0.40329263],\n",
       "           [0.3299667 ],\n",
       "           [0.3299667 ]],\n",
       " \n",
       "          [[1.5031816 ],\n",
       "           [1.5031816 ],\n",
       "           [1.5398445 ],\n",
       "           ...,\n",
       "           [0.3299667 ],\n",
       "           [0.3299667 ],\n",
       "           [0.3299667 ]],\n",
       " \n",
       "          ...,\n",
       " \n",
       "          [[1.063226  ],\n",
       "           [1.063226  ],\n",
       "           [1.063226  ],\n",
       "           ...,\n",
       "           [0.        ],\n",
       "           [0.        ],\n",
       "           [0.07332593]],\n",
       " \n",
       "          [[1.063226  ],\n",
       "           [1.063226  ],\n",
       "           [1.063226  ],\n",
       "           ...,\n",
       "           [0.14665186],\n",
       "           [0.1099889 ],\n",
       "           [0.1099889 ]],\n",
       " \n",
       "          [[1.063226  ],\n",
       "           [1.063226  ],\n",
       "           [1.063226  ],\n",
       "           ...,\n",
       "           [9.312393  ],\n",
       "           [9.312393  ],\n",
       "           [9.312393  ]]],\n",
       " \n",
       " \n",
       "         [[[1.5398445 ],\n",
       "           [1.4298557 ],\n",
       "           [1.4298557 ],\n",
       "           ...,\n",
       "           [0.29330373],\n",
       "           [0.25664076],\n",
       "           [0.25664076]],\n",
       " \n",
       "          [[1.4298557 ],\n",
       "           [1.4298557 ],\n",
       "           [1.3565297 ],\n",
       "           ...,\n",
       "           [0.29330373],\n",
       "           [0.25664076],\n",
       "           [0.25664076]],\n",
       " \n",
       "          [[1.5031816 ],\n",
       "           [1.5031816 ],\n",
       "           [1.5031816 ],\n",
       "           ...,\n",
       "           [0.25664076],\n",
       "           [0.29330373],\n",
       "           [0.29330373]],\n",
       " \n",
       "          ...,\n",
       " \n",
       "          [[1.063226  ],\n",
       "           [1.063226  ],\n",
       "           [1.063226  ],\n",
       "           ...,\n",
       "           [0.        ],\n",
       "           [0.        ],\n",
       "           [0.07332593]],\n",
       " \n",
       "          [[1.063226  ],\n",
       "           [1.063226  ],\n",
       "           [1.063226  ],\n",
       "           ...,\n",
       "           [0.1099889 ],\n",
       "           [0.07332593],\n",
       "           [0.07332593]],\n",
       " \n",
       "          [[1.063226  ],\n",
       "           [1.063226  ],\n",
       "           [1.063226  ],\n",
       "           ...,\n",
       "           [9.349056  ],\n",
       "           [9.349056  ],\n",
       "           [0.        ]]],\n",
       " \n",
       " \n",
       "         [[[1.6131705 ],\n",
       "           [1.4665186 ],\n",
       "           [1.5031816 ],\n",
       "           ...,\n",
       "           [0.40329263],\n",
       "           [0.36662966],\n",
       "           [0.36662966]],\n",
       " \n",
       "          [[1.5031816 ],\n",
       "           [1.5031816 ],\n",
       "           [1.3931926 ],\n",
       "           ...,\n",
       "           [0.40329263],\n",
       "           [0.36662966],\n",
       "           [0.36662966]],\n",
       " \n",
       "          [[1.5031816 ],\n",
       "           [1.5031816 ],\n",
       "           [1.4665186 ],\n",
       "           ...,\n",
       "           [0.29330373],\n",
       "           [0.3299667 ],\n",
       "           [0.3299667 ]],\n",
       " \n",
       "          ...,\n",
       " \n",
       "          [[1.063226  ],\n",
       "           [1.063226  ],\n",
       "           [1.063226  ],\n",
       "           ...,\n",
       "           [9.349056  ],\n",
       "           [9.349056  ],\n",
       "           [0.07332593]],\n",
       " \n",
       "          [[1.063226  ],\n",
       "           [1.063226  ],\n",
       "           [1.063226  ],\n",
       "           ...,\n",
       "           [0.1099889 ],\n",
       "           [0.07332593],\n",
       "           [0.03666297]],\n",
       " \n",
       "          [[1.063226  ],\n",
       "           [1.063226  ],\n",
       "           [1.063226  ],\n",
       "           ...,\n",
       "           [9.312393  ],\n",
       "           [9.349056  ],\n",
       "           [0.03666297]]],\n",
       " \n",
       " \n",
       "         ...,\n",
       " \n",
       " \n",
       "         [[[1.5031816 ],\n",
       "           [1.6131705 ],\n",
       "           [1.5031816 ],\n",
       "           ...,\n",
       "           [0.29330373],\n",
       "           [0.29330373],\n",
       "           [0.29330373]],\n",
       " \n",
       "          [[1.6498334 ],\n",
       "           [1.6131705 ],\n",
       "           [1.5031816 ],\n",
       "           ...,\n",
       "           [0.29330373],\n",
       "           [0.29330373],\n",
       "           [0.29330373]],\n",
       " \n",
       "          [[1.5031816 ],\n",
       "           [1.5031816 ],\n",
       "           [1.4665186 ],\n",
       "           ...,\n",
       "           [0.25664076],\n",
       "           [0.29330373],\n",
       "           [0.29330373]],\n",
       " \n",
       "          ...,\n",
       " \n",
       "          [[1.0998889 ],\n",
       "           [1.063226  ],\n",
       "           [1.063226  ],\n",
       "           ...,\n",
       "           [0.07332593],\n",
       "           [0.1099889 ],\n",
       "           [0.1099889 ]],\n",
       " \n",
       "          [[1.063226  ],\n",
       "           [1.063226  ],\n",
       "           [1.063226  ],\n",
       "           ...,\n",
       "           [0.1099889 ],\n",
       "           [0.1099889 ],\n",
       "           [0.07332593]],\n",
       " \n",
       "          [[1.063226  ],\n",
       "           [1.063226  ],\n",
       "           [1.063226  ],\n",
       "           ...,\n",
       "           [0.07332593],\n",
       "           [0.        ],\n",
       "           [0.        ]]],\n",
       " \n",
       " \n",
       "         [[[1.5398445 ],\n",
       "           [1.5031816 ],\n",
       "           [1.3931926 ],\n",
       "           ...,\n",
       "           [0.40329263],\n",
       "           [0.3299667 ],\n",
       "           [0.3299667 ]],\n",
       " \n",
       "          [[1.6498334 ],\n",
       "           [1.5398445 ],\n",
       "           [1.3931926 ],\n",
       "           ...,\n",
       "           [0.40329263],\n",
       "           [0.3299667 ],\n",
       "           [0.3299667 ]],\n",
       " \n",
       "          [[1.5031816 ],\n",
       "           [1.5031816 ],\n",
       "           [1.4665186 ],\n",
       "           ...,\n",
       "           [0.29330373],\n",
       "           [0.25664076],\n",
       "           [0.25664076]],\n",
       " \n",
       "          ...,\n",
       " \n",
       "          [[1.136552  ],\n",
       "           [1.0998889 ],\n",
       "           [1.0998889 ],\n",
       "           ...,\n",
       "           [0.        ],\n",
       "           [0.03666297],\n",
       "           [0.03666297]],\n",
       " \n",
       "          [[1.0998889 ],\n",
       "           [1.0998889 ],\n",
       "           [1.0998889 ],\n",
       "           ...,\n",
       "           [0.07332593],\n",
       "           [0.03666297],\n",
       "           [0.03666297]],\n",
       " \n",
       "          [[1.0998889 ],\n",
       "           [1.0998889 ],\n",
       "           [1.0998889 ],\n",
       "           ...,\n",
       "           [9.349056  ],\n",
       "           [9.349056  ],\n",
       "           [9.312393  ]]],\n",
       " \n",
       " \n",
       "         [[[1.5031816 ],\n",
       "           [1.5031816 ],\n",
       "           [1.4665186 ],\n",
       "           ...,\n",
       "           [0.36662966],\n",
       "           [0.29330373],\n",
       "           [0.29330373]],\n",
       " \n",
       "          [[1.6131705 ],\n",
       "           [1.5031816 ],\n",
       "           [1.4298557 ],\n",
       "           ...,\n",
       "           [0.36662966],\n",
       "           [0.29330373],\n",
       "           [0.29330373]],\n",
       " \n",
       "          [[1.5031816 ],\n",
       "           [1.5031816 ],\n",
       "           [1.4665186 ],\n",
       "           ...,\n",
       "           [0.25664076],\n",
       "           [0.29330373],\n",
       "           [0.29330373]],\n",
       " \n",
       "          ...,\n",
       " \n",
       "          [[1.0998889 ],\n",
       "           [1.063226  ],\n",
       "           [1.063226  ],\n",
       "           ...,\n",
       "           [0.03666297],\n",
       "           [0.03666297],\n",
       "           [0.03666297]],\n",
       " \n",
       "          [[1.0998889 ],\n",
       "           [1.0998889 ],\n",
       "           [1.0998889 ],\n",
       "           ...,\n",
       "           [0.07332593],\n",
       "           [0.        ],\n",
       "           [0.        ]],\n",
       " \n",
       "          [[1.0998889 ],\n",
       "           [1.0998889 ],\n",
       "           [1.0998889 ],\n",
       "           ...,\n",
       "           [9.349056  ],\n",
       "           [9.312393  ],\n",
       "           [9.27573   ]]]],\n",
       " \n",
       " \n",
       " \n",
       "        [[[[1.3320101 ],\n",
       "           [1.3320101 ],\n",
       "           [1.2928333 ],\n",
       "           ...,\n",
       "           [0.19588384],\n",
       "           [0.15670708],\n",
       "           [0.03917677]],\n",
       " \n",
       "          [[1.3320101 ],\n",
       "           [1.3320101 ],\n",
       "           [1.2928333 ],\n",
       "           ...,\n",
       "           [0.11753031],\n",
       "           [0.        ],\n",
       "           [9.990076  ]],\n",
       " \n",
       "          [[1.2928333 ],\n",
       "           [1.2928333 ],\n",
       "           [1.2928333 ],\n",
       "           ...,\n",
       "           [0.11753031],\n",
       "           [0.        ],\n",
       "           [0.        ]],\n",
       " \n",
       "          ...,\n",
       " \n",
       "          [[0.90106565],\n",
       "           [0.90106565],\n",
       "           [0.90106565],\n",
       "           ...,\n",
       "           [9.794192  ],\n",
       "           [9.794192  ],\n",
       "           [9.794192  ]],\n",
       " \n",
       "          [[0.90106565],\n",
       "           [0.90106565],\n",
       "           [0.90106565],\n",
       "           ...,\n",
       "           [9.755015  ],\n",
       "           [9.833369  ],\n",
       "           [9.833369  ]],\n",
       " \n",
       "          [[0.90106565],\n",
       "           [0.90106565],\n",
       "           [0.90106565],\n",
       "           ...,\n",
       "           [9.794192  ],\n",
       "           [9.833369  ],\n",
       "           [9.794192  ]]],\n",
       " \n",
       " \n",
       "         [[[1.3320101 ],\n",
       "           [1.3320101 ],\n",
       "           [1.3320101 ],\n",
       "           ...,\n",
       "           [0.15670708],\n",
       "           [0.03917677],\n",
       "           [0.07835354]],\n",
       " \n",
       "          [[1.2928333 ],\n",
       "           [1.2928333 ],\n",
       "           [1.2928333 ],\n",
       "           ...,\n",
       "           [0.15670708],\n",
       "           [0.07835354],\n",
       "           [0.15670708]],\n",
       " \n",
       "          [[1.3711869 ],\n",
       "           [1.3711869 ],\n",
       "           [1.3711869 ],\n",
       "           ...,\n",
       "           [0.03917677],\n",
       "           [0.03917677],\n",
       "           [0.03917677]],\n",
       " \n",
       "          ...,\n",
       " \n",
       "          [[0.8618889 ],\n",
       "           [0.8618889 ],\n",
       "           [0.8618889 ],\n",
       "           ...,\n",
       "           [9.872545  ],\n",
       "           [9.833369  ],\n",
       "           [9.833369  ]],\n",
       " \n",
       "          [[0.8618889 ],\n",
       "           [0.8618889 ],\n",
       "           [0.8618889 ],\n",
       "           ...,\n",
       "           [9.715838  ],\n",
       "           [9.833369  ],\n",
       "           [9.833369  ]],\n",
       " \n",
       "          [[0.8618889 ],\n",
       "           [0.8618889 ],\n",
       "           [0.8618889 ],\n",
       "           ...,\n",
       "           [9.715838  ],\n",
       "           [9.755015  ],\n",
       "           [9.755015  ]]],\n",
       " \n",
       " \n",
       "         [[[1.3320101 ],\n",
       "           [1.3320101 ],\n",
       "           [1.2928333 ],\n",
       "           ...,\n",
       "           [0.15670708],\n",
       "           [0.03917677],\n",
       "           [0.07835354]],\n",
       " \n",
       "          [[1.2928333 ],\n",
       "           [1.2928333 ],\n",
       "           [1.2536566 ],\n",
       "           ...,\n",
       "           [0.15670708],\n",
       "           [0.07835354],\n",
       "           [0.07835354]],\n",
       " \n",
       "          [[1.3320101 ],\n",
       "           [1.3320101 ],\n",
       "           [1.3320101 ],\n",
       "           ...,\n",
       "           [0.        ],\n",
       "           [0.        ],\n",
       "           [0.03917677]],\n",
       " \n",
       "          ...,\n",
       " \n",
       "          [[0.8227121 ],\n",
       "           [0.8227121 ],\n",
       "           [0.8227121 ],\n",
       "           ...,\n",
       "           [9.911722  ],\n",
       "           [9.872545  ],\n",
       "           [9.755015  ]],\n",
       " \n",
       "          [[0.8227121 ],\n",
       "           [0.8227121 ],\n",
       "           [0.8227121 ],\n",
       "           ...,\n",
       "           [9.715838  ],\n",
       "           [9.833369  ],\n",
       "           [9.833369  ]],\n",
       " \n",
       "          [[0.8227121 ],\n",
       "           [0.8227121 ],\n",
       "           [0.8227121 ],\n",
       "           ...,\n",
       "           [9.715838  ],\n",
       "           [9.755015  ],\n",
       "           [9.755015  ]]],\n",
       " \n",
       " \n",
       "         ...,\n",
       " \n",
       " \n",
       "         [[[1.2928333 ],\n",
       "           [1.2928333 ],\n",
       "           [1.3711869 ],\n",
       "           ...,\n",
       "           [0.15670708],\n",
       "           [0.15670708],\n",
       "           [0.15670708]],\n",
       " \n",
       "          [[1.2536566 ],\n",
       "           [1.2536566 ],\n",
       "           [1.3320101 ],\n",
       "           ...,\n",
       "           [0.07835354],\n",
       "           [0.19588384],\n",
       "           [0.19588384]],\n",
       " \n",
       "          [[1.2928333 ],\n",
       "           [1.2928333 ],\n",
       "           [1.2536566 ],\n",
       "           ...,\n",
       "           [0.07835354],\n",
       "           [0.03917677],\n",
       "           [0.03917677]],\n",
       " \n",
       "          ...,\n",
       " \n",
       "          [[0.94024247],\n",
       "           [0.90106565],\n",
       "           [0.90106565],\n",
       "           ...,\n",
       "           [9.794192  ],\n",
       "           [9.755015  ],\n",
       "           [9.833369  ]],\n",
       " \n",
       "          [[0.94024247],\n",
       "           [0.90106565],\n",
       "           [0.90106565],\n",
       "           ...,\n",
       "           [9.715838  ],\n",
       "           [9.755015  ],\n",
       "           [9.833369  ]],\n",
       " \n",
       "          [[0.94024247],\n",
       "           [0.90106565],\n",
       "           [0.90106565],\n",
       "           ...,\n",
       "           [9.715838  ],\n",
       "           [9.755015  ],\n",
       "           [9.755015  ]]],\n",
       " \n",
       " \n",
       "         [[[1.2536566 ],\n",
       "           [1.2536566 ],\n",
       "           [1.3711869 ],\n",
       "           ...,\n",
       "           [0.11753031],\n",
       "           [0.15670708],\n",
       "           [0.07835354]],\n",
       " \n",
       "          [[1.2536566 ],\n",
       "           [1.2536566 ],\n",
       "           [1.3711869 ],\n",
       "           ...,\n",
       "           [0.03917677],\n",
       "           [0.19588384],\n",
       "           [0.03917677]],\n",
       " \n",
       "          [[1.3320101 ],\n",
       "           [1.2928333 ],\n",
       "           [1.2536566 ],\n",
       "           ...,\n",
       "           [0.07835354],\n",
       "           [0.03917677],\n",
       "           [0.03917677]],\n",
       " \n",
       "          ...,\n",
       " \n",
       "          [[0.90106565],\n",
       "           [0.90106565],\n",
       "           [0.90106565],\n",
       "           ...,\n",
       "           [9.833369  ],\n",
       "           [9.794192  ],\n",
       "           [9.794192  ]],\n",
       " \n",
       "          [[0.90106565],\n",
       "           [0.90106565],\n",
       "           [0.90106565],\n",
       "           ...,\n",
       "           [9.755015  ],\n",
       "           [9.794192  ],\n",
       "           [9.794192  ]],\n",
       " \n",
       "          [[0.90106565],\n",
       "           [0.90106565],\n",
       "           [0.90106565],\n",
       "           ...,\n",
       "           [9.755015  ],\n",
       "           [9.794192  ],\n",
       "           [9.794192  ]]],\n",
       " \n",
       " \n",
       "         [[[1.2928333 ],\n",
       "           [1.2928333 ],\n",
       "           [1.3320101 ],\n",
       "           ...,\n",
       "           [0.15670708],\n",
       "           [0.19588384],\n",
       "           [0.07835354]],\n",
       " \n",
       "          [[1.2928333 ],\n",
       "           [1.2928333 ],\n",
       "           [1.3320101 ],\n",
       "           ...,\n",
       "           [0.07835354],\n",
       "           [0.15670708],\n",
       "           [0.15670708]],\n",
       " \n",
       "          [[1.3320101 ],\n",
       "           [1.2928333 ],\n",
       "           [1.2536566 ],\n",
       "           ...,\n",
       "           [0.        ],\n",
       "           [0.03917677],\n",
       "           [0.03917677]],\n",
       " \n",
       "          ...,\n",
       " \n",
       "          [[0.94024247],\n",
       "           [0.90106565],\n",
       "           [0.90106565],\n",
       "           ...,\n",
       "           [9.794192  ],\n",
       "           [9.872545  ],\n",
       "           [9.794192  ]],\n",
       " \n",
       "          [[0.94024247],\n",
       "           [0.90106565],\n",
       "           [0.90106565],\n",
       "           ...,\n",
       "           [9.755015  ],\n",
       "           [9.833369  ],\n",
       "           [9.755015  ]],\n",
       " \n",
       "          [[0.94024247],\n",
       "           [0.90106565],\n",
       "           [0.90106565],\n",
       "           ...,\n",
       "           [9.755015  ],\n",
       "           [9.833369  ],\n",
       "           [9.755015  ]]]]], dtype=float32),\n",
       " array([[ 2,  9, 14,  0,  2, 12, 21,  5,  0,  1, 20,  0,  6,  0,  6, 15,\n",
       "         21, 18,  0, 16, 12,  5,  1, 19,  5,  0,  0,  0,  0,  0,  0,  0,\n",
       "          0,  0,  0,  0,  0,  0,  0,  0,  0],\n",
       "        [19,  5, 20,  0, 23,  8,  9, 20,  5,  0,  1, 20,  0,  9,  0, 20,\n",
       "          8, 18,  5,  5,  0,  1,  7,  1,  9, 14,  0,  0,  0,  0,  0,  0,\n",
       "          0,  0,  0,  0,  0,  0,  0,  0,  0]]))"
      ]
     },
     "execution_count": 96,
     "metadata": {},
     "output_type": "execute_result"
    }
   ],
   "source": [
    "train.as_numpy_iterator().next()"
   ]
  },
  {
   "cell_type": "code",
   "execution_count": 97,
   "metadata": {
    "id": "vjrfIsoXJVbU"
   },
   "outputs": [],
   "source": [
    "frames, alignments = data.as_numpy_iterator().next()"
   ]
  },
  {
   "cell_type": "code",
   "execution_count": 98,
   "metadata": {
    "colab": {
     "base_uri": "https://localhost:8080/"
    },
    "id": "ZHinDCiIKzW0",
    "outputId": "102db16e-6265-4bbe-f76e-9c54327e0a87"
   },
   "outputs": [
    {
     "data": {
      "text/plain": [
       "(2, 75, 46, 140, 1)"
      ]
     },
     "execution_count": 98,
     "metadata": {},
     "output_type": "execute_result"
    }
   ],
   "source": [
    "frames.shape"
   ]
  },
  {
   "cell_type": "code",
   "execution_count": 99,
   "metadata": {
    "colab": {
     "base_uri": "https://localhost:8080/"
    },
    "id": "8eIyaxc7K4ID",
    "outputId": "38987003-d998-474d-d196-fff05baad620"
   },
   "outputs": [
    {
     "data": {
      "text/plain": [
       "(2, 41)"
      ]
     },
     "execution_count": 99,
     "metadata": {},
     "output_type": "execute_result"
    }
   ],
   "source": [
    "alignments.shape"
   ]
  },
  {
   "cell_type": "code",
   "execution_count": 36,
   "metadata": {
    "colab": {
     "base_uri": "https://localhost:8080/"
    },
    "id": "FRAKtcZdLZPr",
    "outputId": "4de1d8dd-4813-445b-deee-0342fca39fbb"
   },
   "outputs": [
    {
     "data": {
      "text/plain": [
       "b's e t  w h i t e  i n  u  f o u r  n o w                  b i n  g r e e n  w i t h  b  f o u r  n o w               '"
      ]
     },
     "execution_count": 36,
     "metadata": {},
     "output_type": "execute_result"
    }
   ],
   "source": [
    "tf.strings.reduce_join(num_to_char(alignments).numpy(), separator=' ').numpy()"
   ]
  },
  {
   "cell_type": "code",
   "execution_count": 37,
   "metadata": {
    "id": "lNjUX4fKLc3L"
   },
   "outputs": [],
   "source": [
    "frames, alignments = train.as_numpy_iterator().next()"
   ]
  },
  {
   "cell_type": "code",
   "execution_count": 38,
   "metadata": {
    "colab": {
     "base_uri": "https://localhost:8080/"
    },
    "id": "HThooAt3NH_Y",
    "outputId": "01b85395-fab2-438e-e993-ff5ad02e4296"
   },
   "outputs": [
    {
     "data": {
      "text/plain": [
       "(2, 75, 46, 140, 1)"
      ]
     },
     "execution_count": 38,
     "metadata": {},
     "output_type": "execute_result"
    }
   ],
   "source": [
    "frames.shape"
   ]
  },
  {
   "cell_type": "code",
   "execution_count": 39,
   "metadata": {
    "colab": {
     "base_uri": "https://localhost:8080/"
    },
    "id": "VHItb4AINlNg",
    "outputId": "fce24862-72f0-4c5a-b5c2-9b80850dd53b"
   },
   "outputs": [
    {
     "data": {
      "text/plain": [
       "(2, 40)"
      ]
     },
     "execution_count": 39,
     "metadata": {},
     "output_type": "execute_result"
    }
   ],
   "source": [
    "alignments.shape"
   ]
  },
  {
   "cell_type": "code",
   "execution_count": 40,
   "metadata": {
    "colab": {
     "base_uri": "https://localhost:8080/"
    },
    "id": "6yNOCQ08Nmbp",
    "outputId": "d1b3c6b8-721d-45fc-ab4d-723f877d92ac"
   },
   "outputs": [
    {
     "data": {
      "text/plain": [
       "2"
      ]
     },
     "execution_count": 40,
     "metadata": {},
     "output_type": "execute_result"
    }
   ],
   "source": [
    "len(alignments)"
   ]
  },
  {
   "cell_type": "code",
   "execution_count": 41,
   "metadata": {
    "colab": {
     "base_uri": "https://localhost:8080/"
    },
    "id": "B9dh3JaBNn_q",
    "outputId": "458e458c-5610-41a1-994d-1c3787a419c8"
   },
   "outputs": [
    {
     "data": {
      "text/plain": [
       "2"
      ]
     },
     "execution_count": 41,
     "metadata": {},
     "output_type": "execute_result"
    }
   ],
   "source": [
    "len(frames)"
   ]
  },
  {
   "cell_type": "code",
   "execution_count": 42,
   "metadata": {
    "colab": {
     "base_uri": "https://localhost:8080/"
    },
    "id": "CpnExO-fNpJR",
    "outputId": "416b27ce-d309-43f9-cb98-838828119fb5"
   },
   "outputs": [
    {
     "data": {
      "text/plain": [
       "75"
      ]
     },
     "execution_count": 42,
     "metadata": {},
     "output_type": "execute_result"
    }
   ],
   "source": [
    "len(frames[1])"
   ]
  },
  {
   "cell_type": "code",
   "execution_count": 43,
   "metadata": {
    "colab": {
     "base_uri": "https://localhost:8080/"
    },
    "id": "NHRzMRDpNsXQ",
    "outputId": "cea1a1d9-c438-4510-9004-f6fb002735a5"
   },
   "outputs": [
    {
     "data": {
      "text/plain": [
       "40"
      ]
     },
     "execution_count": 43,
     "metadata": {},
     "output_type": "execute_result"
    }
   ],
   "source": [
    "len(alignments[1])"
   ]
  },
  {
   "cell_type": "code",
   "execution_count": 44,
   "metadata": {
    "id": "nHAzo7xsNuxY"
   },
   "outputs": [],
   "source": [
    "sample = data.as_numpy_iterator()"
   ]
  },
  {
   "cell_type": "code",
   "execution_count": 45,
   "metadata": {
    "colab": {
     "base_uri": "https://localhost:8080/"
    },
    "collapsed": true,
    "id": "l66X2FYzN9TX",
    "jupyter": {
     "outputs_hidden": true
    },
    "outputId": "576aaec9-8055-4cd6-898a-1ba077fe0c98",
    "tags": []
   },
   "outputs": [
    {
     "data": {
      "text/plain": [
       "array([[[[[1.4942505 ],\n",
       "          [1.4176223 ],\n",
       "          [1.3793082 ],\n",
       "          ...,\n",
       "          [0.2298847 ],\n",
       "          [0.2298847 ],\n",
       "          [0.2298847 ]],\n",
       "\n",
       "         [[1.4942505 ],\n",
       "          [1.5325646 ],\n",
       "          [1.3793082 ],\n",
       "          ...,\n",
       "          [0.2298847 ],\n",
       "          [0.2298847 ],\n",
       "          [0.2298847 ]],\n",
       "\n",
       "         [[1.3793082 ],\n",
       "          [1.3793082 ],\n",
       "          [1.4559364 ],\n",
       "          ...,\n",
       "          [0.34482706],\n",
       "          [0.30651292],\n",
       "          [0.30651292]],\n",
       "\n",
       "         ...,\n",
       "\n",
       "         [[1.0344812 ],\n",
       "          [1.0344812 ],\n",
       "          [0.99616706],\n",
       "          ...,\n",
       "          [0.03831412],\n",
       "          [0.        ],\n",
       "          [0.        ]],\n",
       "\n",
       "         [[1.0344812 ],\n",
       "          [1.0344812 ],\n",
       "          [0.99616706],\n",
       "          ...,\n",
       "          [0.        ],\n",
       "          [9.7701    ],\n",
       "          [9.7701    ]],\n",
       "\n",
       "         [[1.0344812 ],\n",
       "          [1.0344812 ],\n",
       "          [0.99616706],\n",
       "          ...,\n",
       "          [0.        ],\n",
       "          [9.7701    ],\n",
       "          [9.7701    ]]],\n",
       "\n",
       "\n",
       "        [[[1.3793082 ],\n",
       "          [1.3409941 ],\n",
       "          [1.3409941 ],\n",
       "          ...,\n",
       "          [0.30651292],\n",
       "          [0.30651292],\n",
       "          [0.30651292]],\n",
       "\n",
       "         [[1.3409941 ],\n",
       "          [1.3793082 ],\n",
       "          [1.3409941 ],\n",
       "          ...,\n",
       "          [0.30651292],\n",
       "          [0.30651292],\n",
       "          [0.30651292]],\n",
       "\n",
       "         [[1.5325646 ],\n",
       "          [1.5325646 ],\n",
       "          [1.4942505 ],\n",
       "          ...,\n",
       "          [0.30651292],\n",
       "          [0.30651292],\n",
       "          [0.30651292]],\n",
       "\n",
       "         ...,\n",
       "\n",
       "         [[1.0344812 ],\n",
       "          [1.0344812 ],\n",
       "          [0.99616706],\n",
       "          ...,\n",
       "          [0.03831412],\n",
       "          [0.03831412],\n",
       "          [0.        ]],\n",
       "\n",
       "         [[1.0344812 ],\n",
       "          [1.0344812 ],\n",
       "          [0.99616706],\n",
       "          ...,\n",
       "          [0.03831412],\n",
       "          [0.03831412],\n",
       "          [0.        ]],\n",
       "\n",
       "         [[1.0344812 ],\n",
       "          [1.0344812 ],\n",
       "          [0.99616706],\n",
       "          ...,\n",
       "          [0.03831412],\n",
       "          [0.03831412],\n",
       "          [0.        ]]],\n",
       "\n",
       "\n",
       "        [[[1.4559364 ],\n",
       "          [1.4176223 ],\n",
       "          [1.5708787 ],\n",
       "          ...,\n",
       "          [0.30651292],\n",
       "          [0.30651292],\n",
       "          [0.30651292]],\n",
       "\n",
       "         [[1.4559364 ],\n",
       "          [1.4559364 ],\n",
       "          [1.5325646 ],\n",
       "          ...,\n",
       "          [0.30651292],\n",
       "          [0.30651292],\n",
       "          [0.30651292]],\n",
       "\n",
       "         [[1.4176223 ],\n",
       "          [1.4176223 ],\n",
       "          [1.4176223 ],\n",
       "          ...,\n",
       "          [0.30651292],\n",
       "          [0.30651292],\n",
       "          [0.30651292]],\n",
       "\n",
       "         ...,\n",
       "\n",
       "         [[1.0727953 ],\n",
       "          [1.0727953 ],\n",
       "          [1.0344812 ],\n",
       "          ...,\n",
       "          [0.        ],\n",
       "          [0.        ],\n",
       "          [9.7701    ]],\n",
       "\n",
       "         [[1.0344812 ],\n",
       "          [1.0344812 ],\n",
       "          [0.99616706],\n",
       "          ...,\n",
       "          [0.        ],\n",
       "          [0.        ],\n",
       "          [9.7701    ]],\n",
       "\n",
       "         [[1.0344812 ],\n",
       "          [1.0344812 ],\n",
       "          [0.99616706],\n",
       "          ...,\n",
       "          [0.        ],\n",
       "          [0.        ],\n",
       "          [9.7701    ]]],\n",
       "\n",
       "\n",
       "        ...,\n",
       "\n",
       "\n",
       "        [[[1.4942505 ],\n",
       "          [1.3793082 ],\n",
       "          [1.3409941 ],\n",
       "          ...,\n",
       "          [0.30651292],\n",
       "          [0.26819882],\n",
       "          [0.19157058]],\n",
       "\n",
       "         [[1.4942505 ],\n",
       "          [1.3409941 ],\n",
       "          [1.30268   ],\n",
       "          ...,\n",
       "          [0.30651292],\n",
       "          [0.26819882],\n",
       "          [0.19157058]],\n",
       "\n",
       "         [[1.4176223 ],\n",
       "          [1.4176223 ],\n",
       "          [1.3793082 ],\n",
       "          ...,\n",
       "          [0.34482706],\n",
       "          [0.34482706],\n",
       "          [0.34482706]],\n",
       "\n",
       "         ...,\n",
       "\n",
       "         [[1.0727953 ],\n",
       "          [1.0344812 ],\n",
       "          [1.0344812 ],\n",
       "          ...,\n",
       "          [0.        ],\n",
       "          [0.        ],\n",
       "          [0.        ]],\n",
       "\n",
       "         [[1.0344812 ],\n",
       "          [1.0344812 ],\n",
       "          [1.0344812 ],\n",
       "          ...,\n",
       "          [0.        ],\n",
       "          [0.        ],\n",
       "          [9.7701    ]],\n",
       "\n",
       "         [[1.0344812 ],\n",
       "          [1.0344812 ],\n",
       "          [0.99616706],\n",
       "          ...,\n",
       "          [0.        ],\n",
       "          [9.7701    ],\n",
       "          [9.7701    ]]],\n",
       "\n",
       "\n",
       "        [[[1.5325646 ],\n",
       "          [1.4176223 ],\n",
       "          [1.4176223 ],\n",
       "          ...,\n",
       "          [0.38314116],\n",
       "          [0.30651292],\n",
       "          [0.26819882]],\n",
       "\n",
       "         [[1.609193  ],\n",
       "          [1.4176223 ],\n",
       "          [1.3409941 ],\n",
       "          ...,\n",
       "          [0.38314116],\n",
       "          [0.30651292],\n",
       "          [0.26819882]],\n",
       "\n",
       "         [[1.4942505 ],\n",
       "          [1.4942505 ],\n",
       "          [1.4559364 ],\n",
       "          ...,\n",
       "          [0.30651292],\n",
       "          [0.30651292],\n",
       "          [0.2298847 ]],\n",
       "\n",
       "         ...,\n",
       "\n",
       "         [[1.0344812 ],\n",
       "          [0.99616706],\n",
       "          [0.99616706],\n",
       "          ...,\n",
       "          [0.03831412],\n",
       "          [0.        ],\n",
       "          [0.        ]],\n",
       "\n",
       "         [[0.99616706],\n",
       "          [0.99616706],\n",
       "          [1.0344812 ],\n",
       "          ...,\n",
       "          [0.        ],\n",
       "          [0.        ],\n",
       "          [0.        ]],\n",
       "\n",
       "         [[1.0344812 ],\n",
       "          [1.0344812 ],\n",
       "          [0.99616706],\n",
       "          ...,\n",
       "          [0.        ],\n",
       "          [0.        ],\n",
       "          [9.7701    ]]],\n",
       "\n",
       "\n",
       "        [[[1.5708787 ],\n",
       "          [1.3793082 ],\n",
       "          [1.4176223 ],\n",
       "          ...,\n",
       "          [0.34482706],\n",
       "          [0.30651292],\n",
       "          [0.26819882]],\n",
       "\n",
       "         [[1.6475071 ],\n",
       "          [1.3793082 ],\n",
       "          [1.3409941 ],\n",
       "          ...,\n",
       "          [0.34482706],\n",
       "          [0.30651292],\n",
       "          [0.26819882]],\n",
       "\n",
       "         [[1.4176223 ],\n",
       "          [1.4176223 ],\n",
       "          [1.4176223 ],\n",
       "          ...,\n",
       "          [0.30651292],\n",
       "          [0.30651292],\n",
       "          [0.2298847 ]],\n",
       "\n",
       "         ...,\n",
       "\n",
       "         [[1.0344812 ],\n",
       "          [1.0344812 ],\n",
       "          [1.0344812 ],\n",
       "          ...,\n",
       "          [0.03831412],\n",
       "          [0.        ],\n",
       "          [0.        ]],\n",
       "\n",
       "         [[1.0344812 ],\n",
       "          [1.0344812 ],\n",
       "          [0.99616706],\n",
       "          ...,\n",
       "          [9.7701    ],\n",
       "          [0.        ],\n",
       "          [0.        ]],\n",
       "\n",
       "         [[0.99616706],\n",
       "          [0.99616706],\n",
       "          [0.9578529 ],\n",
       "          ...,\n",
       "          [9.7701    ],\n",
       "          [0.        ],\n",
       "          [9.7701    ]]]],\n",
       "\n",
       "\n",
       "\n",
       "       [[[[1.5229521 ],\n",
       "          [1.4848783 ],\n",
       "          [1.3325831 ],\n",
       "          ...,\n",
       "          [0.41881183],\n",
       "          [0.34266424],\n",
       "          [0.34266424]],\n",
       "\n",
       "         [[1.5229521 ],\n",
       "          [1.5229521 ],\n",
       "          [1.4087307 ],\n",
       "          ...,\n",
       "          [0.41881183],\n",
       "          [0.34266424],\n",
       "          [0.34266424]],\n",
       "\n",
       "         [[1.4468045 ],\n",
       "          [1.4468045 ],\n",
       "          [1.5229521 ],\n",
       "          ...,\n",
       "          [0.34266424],\n",
       "          [0.30459043],\n",
       "          [0.30459043]],\n",
       "\n",
       "         ...,\n",
       "\n",
       "         [[1.0660665 ],\n",
       "          [1.0660665 ],\n",
       "          [1.0660665 ],\n",
       "          ...,\n",
       "          [0.0380738 ],\n",
       "          [0.0380738 ],\n",
       "          [0.0380738 ]],\n",
       "\n",
       "         [[1.0279927 ],\n",
       "          [1.0279927 ],\n",
       "          [1.0279927 ],\n",
       "          ...,\n",
       "          [0.0380738 ],\n",
       "          [0.0380738 ],\n",
       "          [0.0380738 ]],\n",
       "\n",
       "         [[1.0279927 ],\n",
       "          [1.0279927 ],\n",
       "          [1.0279927 ],\n",
       "          ...,\n",
       "          [0.0380738 ],\n",
       "          [0.0380738 ],\n",
       "          [0.        ]]],\n",
       "\n",
       "\n",
       "        [[[1.561026  ],\n",
       "          [1.370657  ],\n",
       "          [1.370657  ],\n",
       "          ...,\n",
       "          [0.38073802],\n",
       "          [0.34266424],\n",
       "          [0.34266424]],\n",
       "\n",
       "         [[1.4848783 ],\n",
       "          [1.4087307 ],\n",
       "          [1.3325831 ],\n",
       "          ...,\n",
       "          [0.38073802],\n",
       "          [0.34266424],\n",
       "          [0.34266424]],\n",
       "\n",
       "         [[1.4087307 ],\n",
       "          [1.4087307 ],\n",
       "          [1.4468045 ],\n",
       "          ...,\n",
       "          [0.34266424],\n",
       "          [0.30459043],\n",
       "          [0.30459043]],\n",
       "\n",
       "         ...,\n",
       "\n",
       "         [[1.0660665 ],\n",
       "          [1.0279927 ],\n",
       "          [1.0279927 ],\n",
       "          ...,\n",
       "          [0.0380738 ],\n",
       "          [0.0380738 ],\n",
       "          [0.0380738 ]],\n",
       "\n",
       "         [[1.0660665 ],\n",
       "          [1.0279927 ],\n",
       "          [1.0279927 ],\n",
       "          ...,\n",
       "          [0.0380738 ],\n",
       "          [0.0380738 ],\n",
       "          [0.0380738 ]],\n",
       "\n",
       "         [[1.0279927 ],\n",
       "          [0.9899189 ],\n",
       "          [0.9899189 ],\n",
       "          ...,\n",
       "          [0.0380738 ],\n",
       "          [0.0380738 ],\n",
       "          [0.        ]]],\n",
       "\n",
       "\n",
       "        [[[1.561026  ],\n",
       "          [1.4087307 ],\n",
       "          [1.4848783 ],\n",
       "          ...,\n",
       "          [0.34266424],\n",
       "          [0.34266424],\n",
       "          [0.34266424]],\n",
       "\n",
       "         [[1.5229521 ],\n",
       "          [1.4848783 ],\n",
       "          [1.370657  ],\n",
       "          ...,\n",
       "          [0.34266424],\n",
       "          [0.34266424],\n",
       "          [0.34266424]],\n",
       "\n",
       "         [[1.4848783 ],\n",
       "          [1.4848783 ],\n",
       "          [1.5229521 ],\n",
       "          ...,\n",
       "          [0.34266424],\n",
       "          [0.34266424],\n",
       "          [0.34266424]],\n",
       "\n",
       "         ...,\n",
       "\n",
       "         [[1.0660665 ],\n",
       "          [1.0660665 ],\n",
       "          [1.0279927 ],\n",
       "          ...,\n",
       "          [0.0380738 ],\n",
       "          [0.0380738 ],\n",
       "          [0.0380738 ]],\n",
       "\n",
       "         [[1.0279927 ],\n",
       "          [1.0279927 ],\n",
       "          [1.0279927 ],\n",
       "          ...,\n",
       "          [0.0380738 ],\n",
       "          [0.0380738 ],\n",
       "          [0.0380738 ]],\n",
       "\n",
       "         [[1.0279927 ],\n",
       "          [0.9899189 ],\n",
       "          [0.9899189 ],\n",
       "          ...,\n",
       "          [0.0380738 ],\n",
       "          [0.0380738 ],\n",
       "          [0.        ]]],\n",
       "\n",
       "\n",
       "        ...,\n",
       "\n",
       "\n",
       "        [[[1.561026  ],\n",
       "          [1.4087307 ],\n",
       "          [1.180288  ],\n",
       "          ...,\n",
       "          [0.30459043],\n",
       "          [0.26651663],\n",
       "          [0.26651663]],\n",
       "\n",
       "         [[1.5229521 ],\n",
       "          [1.4468045 ],\n",
       "          [1.1422141 ],\n",
       "          ...,\n",
       "          [0.30459043],\n",
       "          [0.26651663],\n",
       "          [0.26651663]],\n",
       "\n",
       "         [[1.4848783 ],\n",
       "          [1.4848783 ],\n",
       "          [1.4848783 ],\n",
       "          ...,\n",
       "          [0.30459043],\n",
       "          [0.30459043],\n",
       "          [0.30459043]],\n",
       "\n",
       "         ...,\n",
       "\n",
       "         [[1.0279927 ],\n",
       "          [1.0279927 ],\n",
       "          [1.0279927 ],\n",
       "          ...,\n",
       "          [0.11422141],\n",
       "          [0.07614761],\n",
       "          [0.0380738 ]],\n",
       "\n",
       "         [[1.0279927 ],\n",
       "          [1.0279927 ],\n",
       "          [1.0279927 ],\n",
       "          ...,\n",
       "          [0.07614761],\n",
       "          [0.0380738 ],\n",
       "          [0.        ]],\n",
       "\n",
       "         [[1.0279927 ],\n",
       "          [1.0279927 ],\n",
       "          [1.0279927 ],\n",
       "          ...,\n",
       "          [0.07614761],\n",
       "          [0.0380738 ],\n",
       "          [0.        ]]],\n",
       "\n",
       "\n",
       "        [[[1.561026  ],\n",
       "          [1.4468045 ],\n",
       "          [1.2183617 ],\n",
       "          ...,\n",
       "          [0.30459043],\n",
       "          [0.34266424],\n",
       "          [0.34266424]],\n",
       "\n",
       "         [[1.561026  ],\n",
       "          [1.4087307 ],\n",
       "          [1.2183617 ],\n",
       "          ...,\n",
       "          [0.30459043],\n",
       "          [0.34266424],\n",
       "          [0.34266424]],\n",
       "\n",
       "         [[1.5229521 ],\n",
       "          [1.5229521 ],\n",
       "          [1.561026  ],\n",
       "          ...,\n",
       "          [0.34266424],\n",
       "          [0.30459043],\n",
       "          [0.30459043]],\n",
       "\n",
       "         ...,\n",
       "\n",
       "         [[1.0279927 ],\n",
       "          [1.0279927 ],\n",
       "          [1.0279927 ],\n",
       "          ...,\n",
       "          [0.11422141],\n",
       "          [0.07614761],\n",
       "          [0.07614761]],\n",
       "\n",
       "         [[1.0279927 ],\n",
       "          [1.0279927 ],\n",
       "          [1.0279927 ],\n",
       "          ...,\n",
       "          [0.07614761],\n",
       "          [0.0380738 ],\n",
       "          [0.0380738 ]],\n",
       "\n",
       "         [[1.0279927 ],\n",
       "          [1.0279927 ],\n",
       "          [1.0279927 ],\n",
       "          ...,\n",
       "          [0.07614761],\n",
       "          [0.0380738 ],\n",
       "          [0.0380738 ]]],\n",
       "\n",
       "\n",
       "        [[[1.5990998 ],\n",
       "          [1.4468045 ],\n",
       "          [1.2564355 ],\n",
       "          ...,\n",
       "          [0.34266424],\n",
       "          [0.38073802],\n",
       "          [0.38073802]],\n",
       "\n",
       "         [[1.5229521 ],\n",
       "          [1.4087307 ],\n",
       "          [1.2564355 ],\n",
       "          ...,\n",
       "          [0.34266424],\n",
       "          [0.38073802],\n",
       "          [0.38073802]],\n",
       "\n",
       "         [[1.561026  ],\n",
       "          [1.561026  ],\n",
       "          [1.561026  ],\n",
       "          ...,\n",
       "          [0.34266424],\n",
       "          [0.30459043],\n",
       "          [0.34266424]],\n",
       "\n",
       "         ...,\n",
       "\n",
       "         [[1.0660665 ],\n",
       "          [1.0660665 ],\n",
       "          [1.0660665 ],\n",
       "          ...,\n",
       "          [0.11422141],\n",
       "          [0.07614761],\n",
       "          [0.07614761]],\n",
       "\n",
       "         [[1.0279927 ],\n",
       "          [1.0279927 ],\n",
       "          [1.0279927 ],\n",
       "          ...,\n",
       "          [0.07614761],\n",
       "          [0.0380738 ],\n",
       "          [0.0380738 ]],\n",
       "\n",
       "         [[1.0279927 ],\n",
       "          [1.0279927 ],\n",
       "          [1.0279927 ],\n",
       "          ...,\n",
       "          [0.07614761],\n",
       "          [0.0380738 ],\n",
       "          [0.0380738 ]]]]], dtype=float32)"
      ]
     },
     "execution_count": 45,
     "metadata": {},
     "output_type": "execute_result"
    }
   ],
   "source": [
    "val = sample.next(); val[0]"
   ]
  },
  {
   "cell_type": "code",
   "execution_count": 46,
   "metadata": {
    "colab": {
     "base_uri": "https://localhost:8080/"
    },
    "id": "-RzrTNZmTRCo",
    "outputId": "1b549177-ab1d-49dc-a84d-c49e6d239ca1"
   },
   "outputs": [
    {
     "data": {
      "text/plain": [
       "numpy.ndarray"
      ]
     },
     "execution_count": 46,
     "metadata": {},
     "output_type": "execute_result"
    }
   ],
   "source": [
    "type(val[0][0])"
   ]
  },
  {
   "cell_type": "code",
   "execution_count": 47,
   "metadata": {
    "colab": {
     "base_uri": "https://localhost:8080/"
    },
    "id": "ZP_-sEhLSrLm",
    "outputId": "187ea4a5-a5e5-47da-e72e-748286aa6b5e"
   },
   "outputs": [
    {
     "data": {
      "text/plain": [
       "(75, 46, 140, 1)"
      ]
     },
     "execution_count": 47,
     "metadata": {},
     "output_type": "execute_result"
    }
   ],
   "source": [
    "val[0][0].shape"
   ]
  },
  {
   "cell_type": "code",
   "execution_count": 48,
   "metadata": {
    "id": "d0KeqLgHT4BI"
   },
   "outputs": [],
   "source": [
    "list = val[0][0]"
   ]
  },
  {
   "cell_type": "code",
   "execution_count": 49,
   "metadata": {
    "id": "z-f1mUWFUEjS"
   },
   "outputs": [],
   "source": [
    "list = tf.convert_to_tensor(list)"
   ]
  },
  {
   "cell_type": "code",
   "execution_count": 50,
   "metadata": {
    "colab": {
     "base_uri": "https://localhost:8080/"
    },
    "id": "k4WxgUGRUH_J",
    "outputId": "3c897245-df6b-4d60-fcdd-36abb7854c5a"
   },
   "outputs": [
    {
     "data": {
      "text/plain": [
       "tensorflow.python.framework.ops.EagerTensor"
      ]
     },
     "execution_count": 50,
     "metadata": {},
     "output_type": "execute_result"
    }
   ],
   "source": [
    "type(list)"
   ]
  },
  {
   "cell_type": "code",
   "execution_count": 51,
   "metadata": {
    "id": "aMG0ml6DP2fb"
   },
   "outputs": [],
   "source": [
    "list =  tf.squeeze(tf.convert_to_tensor(list), axis=3)"
   ]
  },
  {
   "cell_type": "code",
   "execution_count": 52,
   "metadata": {
    "colab": {
     "base_uri": "https://localhost:8080/"
    },
    "id": "Qi3KoWceU6sY",
    "outputId": "af8fe9dc-db83-4858-e9bb-f3300b4f84d7"
   },
   "outputs": [
    {
     "data": {
      "text/plain": [
       "TensorShape([75, 46, 140])"
      ]
     },
     "execution_count": 52,
     "metadata": {},
     "output_type": "execute_result"
    }
   ],
   "source": [
    "list.shape"
   ]
  },
  {
   "cell_type": "code",
   "execution_count": 53,
   "metadata": {
    "id": "biVu_L8yOGvi"
   },
   "outputs": [],
   "source": [
    "imageio.mimsave('./animation.gif', list, fps=60)"
   ]
  },
  {
   "cell_type": "code",
   "execution_count": 54,
   "metadata": {
    "colab": {
     "base_uri": "https://localhost:8080/"
    },
    "id": "lAaEC-GPQQil",
    "outputId": "0c91bdf2-1717-45c3-dc3e-1f1e3455aba4"
   },
   "outputs": [
    {
     "data": {
      "text/plain": [
       "<matplotlib.image.AxesImage at 0x7efc3758e690>"
      ]
     },
     "execution_count": 54,
     "metadata": {},
     "output_type": "execute_result"
    },
    {
     "data": {
      "image/png": "[encoded data removed]",
      "text/plain": [
       "<Figure size 640x480 with 1 Axes>"
      ]
     },
     "metadata": {},
     "output_type": "display_data"
    }
   ],
   "source": [
    "plt.imshow(val[0][0][35])"
   ]
  },
  {
   "cell_type": "code",
   "execution_count": 55,
   "metadata": {
    "colab": {
     "base_uri": "https://localhost:8080/"
    },
    "id": "OQRo7RQOW8CM",
    "outputId": "04f5f4ca-4204-44e1-9258-be35fb7faa4e"
   },
   "outputs": [
    {
     "data": {
      "text/plain": [
       "b'l a y  b l u e  b y  y  f o u r  p l e a s e               '"
      ]
     },
     "execution_count": 55,
     "metadata": {},
     "output_type": "execute_result"
    }
   ],
   "source": [
    "tf.strings.reduce_join([num_to_char(word) for word in val[1][0]], separator=\" \").numpy()"
   ]
  },
  {
   "cell_type": "markdown",
   "metadata": {
    "id": "qNNx5QvpW0SN",
    "tags": []
   },
   "source": [
    "# Creating the neural network"
   ]
  },
  {
   "cell_type": "markdown",
   "metadata": {
    "id": "rTaPHylBbhSP"
   },
   "source": [
    "### Importing the dependencies"
   ]
  },
  {
   "cell_type": "code",
   "execution_count": 13,
   "metadata": {
    "id": "RLaPx0EfWTkH"
   },
   "outputs": [],
   "source": [
    "from tensorflow.keras.models import Sequential\n",
    "from tensorflow.keras.layers import Conv3D, LSTM, Dense, Dropout, Bidirectional, MaxPool3D, Activation, Reshape, SpatialDropout3D, BatchNormalization, TimeDistributed, Flatten\n",
    "from tensorflow.keras.optimizers import Adam\n",
    "from tensorflow.keras.callbacks import ModelCheckpoint, LearningRateScheduler"
   ]
  },
  {
   "cell_type": "code",
   "execution_count": 14,
   "metadata": {
    "colab": {
     "base_uri": "https://localhost:8080/"
    },
    "id": "2mrbHaYqb0IZ",
    "outputId": "4b076e0b-164b-4040-dfa8-e5f47f0e589d"
   },
   "outputs": [
    {
     "data": {
      "text/plain": [
       "(75, 46, 140, 1)"
      ]
     },
     "execution_count": 14,
     "metadata": {},
     "output_type": "execute_result"
    }
   ],
   "source": [
    "data.as_numpy_iterator().next()[0][0].shape"
   ]
  },
  {
   "cell_type": "code",
   "execution_count": 15,
   "metadata": {
    "id": "MYP2nkaakD5l"
   },
   "outputs": [],
   "source": [
    "model = Sequential()\n",
    "model.add(Conv3D(128, 3, input_shape=(75,46,140,1), padding='same'))\n",
    "model.add(Activation('relu'))\n",
    "model.add(MaxPool3D((1,2,2)))\n",
    "\n",
    "model.add(Conv3D(256, 3, padding='same'))\n",
    "model.add(Activation('relu'))\n",
    "model.add(MaxPool3D((1,2,2)))\n",
    "\n",
    "model.add(Conv3D(75, 3, padding='same'))\n",
    "model.add(Activation('relu'))\n",
    "model.add(MaxPool3D((1,2,2)))\n",
    "\n",
    "model.add(TimeDistributed(Flatten()))\n",
    "\n",
    "model.add(Bidirectional(LSTM(128, kernel_initializer='Orthogonal', return_sequences=True)))\n",
    "model.add(Dropout(.5))\n",
    "\n",
    "model.add(Bidirectional(LSTM(128, kernel_initializer='Orthogonal', return_sequences=True)))\n",
    "model.add(Dropout(.5))\n",
    "\n",
    "model.add(Dense(char_to_num.vocabulary_size()+2, kernel_initializer='he_normal', activation='softmax'))"
   ]
  },
  {
   "cell_type": "code",
   "execution_count": 16,
   "metadata": {
    "colab": {
     "base_uri": "https://localhost:8080/"
    },
    "id": "wdfAWBbsnD47",
    "outputId": "f76c2342-2e9a-47da-c853-a15f7c90cf1b"
   },
   "outputs": [
    {
     "data": {
      "text/plain": [
       "40"
      ]
     },
     "execution_count": 16,
     "metadata": {},
     "output_type": "execute_result"
    }
   ],
   "source": [
    "char_to_num.vocabulary_size() + 1"
   ]
  },
  {
   "cell_type": "code",
   "execution_count": 17,
   "metadata": {
    "colab": {
     "base_uri": "https://localhost:8080/"
    },
    "id": "gvRHjRfxkMrA",
    "outputId": "acdbd033-c38d-4826-8f75-4a820c0552bb"
   },
   "outputs": [
    {
     "name": "stdout",
     "output_type": "stream",
     "text": [
      "Model: \"sequential\"\n",
      "_________________________________________________________________\n",
      " Layer (type)                Output Shape              Param #   \n",
      "=================================================================\n",
      " conv3d (Conv3D)             (None, 75, 46, 140, 128   3584      \n",
      "                             )                                   \n",
      "                                                                 \n",
      " activation (Activation)     (None, 75, 46, 140, 128   0         \n",
      "                             )                                   \n",
      "                                                                 \n",
      " max_pooling3d (MaxPooling3  (None, 75, 23, 70, 128)   0         \n",
      " D)                                                              \n",
      "                                                                 \n",
      " conv3d_1 (Conv3D)           (None, 75, 23, 70, 256)   884992    \n",
      "                                                                 \n",
      " activation_1 (Activation)   (None, 75, 23, 70, 256)   0         \n",
      "                                                                 \n",
      " max_pooling3d_1 (MaxPoolin  (None, 75, 11, 35, 256)   0         \n",
      " g3D)                                                            \n",
      "                                                                 \n",
      " conv3d_2 (Conv3D)           (None, 75, 11, 35, 75)    518475    \n",
      "                                                                 \n",
      " activation_2 (Activation)   (None, 75, 11, 35, 75)    0         \n",
      "                                                                 \n",
      " max_pooling3d_2 (MaxPoolin  (None, 75, 5, 17, 75)     0         \n",
      " g3D)                                                            \n",
      "                                                                 \n",
      " time_distributed (TimeDist  (None, 75, 6375)          0         \n",
      " ributed)                                                        \n",
      "                                                                 \n",
      " bidirectional (Bidirection  (None, 75, 256)           6660096   \n",
      " al)                                                             \n",
      "                                                                 \n",
      " dropout (Dropout)           (None, 75, 256)           0         \n",
      "                                                                 \n",
      " bidirectional_1 (Bidirecti  (None, 75, 256)           394240    \n",
      " onal)                                                           \n",
      "                                                                 \n",
      " dropout_1 (Dropout)         (None, 75, 256)           0         \n",
      "                                                                 \n",
      " dense (Dense)               (None, 75, 41)            10537     \n",
      "                                                                 \n",
      "=================================================================\n",
      "Total params: 8471924 (32.32 MB)\n",
      "Trainable params: 8471924 (32.32 MB)\n",
      "Non-trainable params: 0 (0.00 Byte)\n",
      "_________________________________________________________________\n"
     ]
    }
   ],
   "source": [
    "model.summary()"
   ]
  },
  {
   "cell_type": "code",
   "execution_count": 18,
   "metadata": {
    "colab": {
     "base_uri": "https://localhost:8080/"
    },
    "id": "cEMtdDQmkOdt",
    "outputId": "e3806fbf-9af1-41ca-dab6-be717afbc327"
   },
   "outputs": [
    {
     "ename": "NameError",
     "evalue": "name 'val' is not defined",
     "output_type": "error",
     "traceback": [
      "\u001b[0;31m---------------------------------------------------------------------------\u001b[0m",
      "\u001b[0;31mNameError\u001b[0m                                 Traceback (most recent call last)",
      "Cell \u001b[0;32mIn[18], line 1\u001b[0m\n\u001b[0;32m----> 1\u001b[0m yhat \u001b[38;5;241m=\u001b[39m model\u001b[38;5;241m.\u001b[39mpredict(\u001b[43mval\u001b[49m[\u001b[38;5;241m0\u001b[39m])\n",
      "\u001b[0;31mNameError\u001b[0m: name 'val' is not defined"
     ]
    }
   ],
   "source": [
    "yhat = model.predict(val[0])"
   ]
  },
  {
   "cell_type": "code",
   "execution_count": 62,
   "metadata": {
    "colab": {
     "base_uri": "https://localhost:8080/"
    },
    "id": "gGdUfdfVkZEV",
    "outputId": "93423770-2f8b-4106-e9ee-3baa91d1bd8b"
   },
   "outputs": [
    {
     "data": {
      "text/plain": [
       "<tf.Tensor: shape=(), dtype=string, numpy=b'ccccccccccccccccccccccccppppppppccccccccccccccccccppppppppppppppppppppppppp'>"
      ]
     },
     "execution_count": 62,
     "metadata": {},
     "output_type": "execute_result"
    }
   ],
   "source": [
    "tf.strings.reduce_join([num_to_char(x) for x in tf.argmax(yhat[0],axis=1)])"
   ]
  },
  {
   "cell_type": "code",
   "execution_count": 63,
   "metadata": {
    "colab": {
     "base_uri": "https://localhost:8080/"
    },
    "id": "Pek8lXh-nmK5",
    "outputId": "fbc58919-9a59-4a30-8992-62b855db533e"
   },
   "outputs": [
    {
     "data": {
      "text/plain": [
       "<tf.Tensor: shape=(), dtype=string, numpy=b'ccccccccccccccccccccccccppppppppccccccccccccccccccppppppppppppppppppppppppp'>"
      ]
     },
     "execution_count": 63,
     "metadata": {},
     "output_type": "execute_result"
    }
   ],
   "source": [
    "tf.strings.reduce_join([num_to_char(tf.argmax(x)) for x in yhat[0]])"
   ]
  },
  {
   "cell_type": "code",
   "execution_count": 106,
   "metadata": {
    "colab": {
     "base_uri": "https://localhost:8080/"
    },
    "id": "O-ogYJ5dnuoZ",
    "outputId": "bf90d893-a75e-4910-b60d-6cf044ecae95"
   },
   "outputs": [
    {
     "data": {
      "text/plain": [
       "(None, 75, 46, 140, 1)"
      ]
     },
     "execution_count": 106,
     "metadata": {},
     "output_type": "execute_result"
    }
   ],
   "source": [
    "model.input_shape"
   ]
  },
  {
   "cell_type": "code",
   "execution_count": 107,
   "metadata": {
    "colab": {
     "base_uri": "https://localhost:8080/"
    },
    "id": "00xinEeAnxKR",
    "outputId": "86acf32f-2399-4560-9c5e-cdf72ae5469c"
   },
   "outputs": [
    {
     "data": {
      "text/plain": [
       "(None, 75, 41)"
      ]
     },
     "execution_count": 107,
     "metadata": {},
     "output_type": "execute_result"
    }
   ],
   "source": [
    "model.output_shape"
   ]
  },
  {
   "cell_type": "markdown",
   "metadata": {
    "id": "elpmUJdLn4TR"
   },
   "source": [
    "### Set up training"
   ]
  },
  {
   "cell_type": "code",
   "execution_count": 19,
   "metadata": {
    "id": "t87q6lqNnyap"
   },
   "outputs": [],
   "source": [
    "def scheduler(epoch, lr):\n",
    "    if epoch < 30:\n",
    "        return lr\n",
    "    else:\n",
    "        return lr * tf.math.exp(-0.1)"
   ]
  },
  {
   "cell_type": "code",
   "execution_count": 20,
   "metadata": {
    "id": "g0PHTjfLn7hK"
   },
   "outputs": [],
   "source": [
    "def CTCLoss(y_true, y_pred):\n",
    "    batch_len = tf.cast(tf.shape(y_true)[0], dtype=\"int64\")\n",
    "    input_length = tf.cast(tf.shape(y_pred)[1], dtype=\"int64\")\n",
    "    label_length = tf.cast(tf.shape(y_true)[1], dtype=\"int64\")\n",
    "\n",
    "    input_length = input_length * tf.ones(shape=(batch_len, 1), dtype=\"int64\")\n",
    "    label_length = label_length * tf.ones(shape=(batch_len, 1), dtype=\"int64\")\n",
    "\n",
    "    loss = tf.keras.backend.ctc_batch_cost(y_true, y_pred, input_length, label_length)\n",
    "    return loss"
   ]
  },
  {
   "cell_type": "code",
   "execution_count": 21,
   "metadata": {
    "id": "K9UfHz7Vn8hg"
   },
   "outputs": [],
   "source": [
    "class ProduceExample(tf.keras.callbacks.Callback):\n",
    "    def __init__(self, dataset) -> None:\n",
    "        self.dataset = dataset.as_numpy_iterator()\n",
    "\n",
    "    def on_epoch_end(self, epoch, logs=None) -> None:\n",
    "        data = self.dataset.next()\n",
    "        yhat = self.model.predict(data[0])\n",
    "        decoded = tf.keras.backend.ctc_decode(yhat, [75,75], greedy=False)[0][0].numpy()\n",
    "        for x in range(len(yhat)):\n",
    "            print('Original:', tf.strings.reduce_join(num_to_char(data[1][x])).numpy().decode('utf-8'))\n",
    "            print('Prediction:', tf.strings.reduce_join(num_to_char(decoded[x])).numpy().decode('utf-8'))\n",
    "            print('~'*100)"
   ]
  },
  {
   "cell_type": "code",
   "execution_count": 22,
   "metadata": {
    "id": "80u68Loun-OB"
   },
   "outputs": [],
   "source": [
    "model.compile(optimizer=tf.keras.optimizers.legacy.Adam(learning_rate=0.0001), loss=CTCLoss)"
   ]
  },
  {
   "cell_type": "code",
   "execution_count": 23,
   "metadata": {
    "id": "n9pCnhBFn_sj"
   },
   "outputs": [],
   "source": [
    "checkpoint_callback = ModelCheckpoint(os.path.join('models','checkpoint'), monitor='loss', save_weights_only=True)"
   ]
  },
  {
   "cell_type": "code",
   "execution_count": 24,
   "metadata": {
    "id": "L2O46dzXoBOx"
   },
   "outputs": [],
   "source": [
    "schedule_callback = LearningRateScheduler(scheduler)"
   ]
  },
  {
   "cell_type": "code",
   "execution_count": 25,
   "metadata": {
    "id": "90wE0MbQoCIw"
   },
   "outputs": [],
   "source": [
    "example_callback = ProduceExample(test)"
   ]
  },
  {
   "cell_type": "code",
   "execution_count": 74,
   "metadata": {
    "tags": []
   },
   "outputs": [
    {
     "name": "stdout",
     "output_type": "stream",
     "text": [
      "Fri May  3 09:40:22 2024       \n",
      "+-----------------------------------------------------------------------------------------+\n",
      "| NVIDIA-SMI 550.54.15              Driver Version: 550.54.15      CUDA Version: 12.4     |\n",
      "|-----------------------------------------+------------------------+----------------------+\n",
      "| GPU  Name                 Persistence-M | Bus-Id          Disp.A | Volatile Uncorr. ECC |\n",
      "| Fan  Temp   Perf          Pwr:Usage/Cap |           Memory-Usage | GPU-Util  Compute M. |\n",
      "|                                         |                        |               MIG M. |\n",
      "|=========================================+========================+======================|\n",
      "|   0  Tesla V100S-PCIE-32GB          Off |   00000000:00:06.0 Off |                    0 |\n",
      "| N/A   37C    P0             40W /  250W |    4591MiB /  32768MiB |      0%      Default |\n",
      "|                                         |                        |                  N/A |\n",
      "+-----------------------------------------+------------------------+----------------------+\n",
      "                                                                                         \n",
      "+-----------------------------------------------------------------------------------------+\n",
      "| Processes:                                                                              |\n",
      "|  GPU   GI   CI        PID   Type   Process name                              GPU Memory |\n",
      "|        ID   ID                                                               Usage      |\n",
      "|=========================================================================================|\n",
      "+-----------------------------------------------------------------------------------------+\n"
     ]
    }
   ],
   "source": [
    "!nvidia-smi"
   ]
  },
  {
   "cell_type": "code",
   "execution_count": 84,
   "metadata": {
    "colab": {
     "background_save": true,
     "base_uri": "https://localhost:8080/"
    },
    "id": "Ksf0W5zBoDXR",
    "outputId": "7fe5afee-7653-4879-ea16-a41a2c2c0ba7",
    "tags": []
   },
   "outputs": [],
   "source": [
    "# model.fit(train, validation_data=test, epochs=100, callbacks=[checkpoint_callback, schedule_callback, example_callback])"
   ]
  },
  {
   "cell_type": "code",
   "execution_count": 85,
   "metadata": {
    "tags": []
   },
   "outputs": [
    {
     "name": "stderr",
     "output_type": "stream",
     "text": [
      "Downloading...\n",
      "From (original): https://drive.google.com/uc?id=1vWscXs4Vt0a_1IH1-ct2TCgXAZT-N3_Y\n",
      "From (redirected): https://drive.google.com/uc?id=1vWscXs4Vt0a_1IH1-ct2TCgXAZT-N3_Y&confirm=t&uuid=3515b42c-a5d2-4dac-a9af-8b4eea8e25e1\n",
      "To: /home/jovyan/checkpoints.zip\n",
      "100%|█████████████████████████████████████████████████████████████████████████████████████████████████████████████████████████████████████████████████████████████████████████| 94.5M/94.5M [00:13<00:00, 6.98MB/s]\n"
     ]
    },
    {
     "data": {
      "text/plain": [
       "['models/checkpoint.index',\n",
       " 'models/__MACOSX/._checkpoint.index',\n",
       " 'models/checkpoint.data-00000-of-00001',\n",
       " 'models/__MACOSX/._checkpoint.data-00000-of-00001',\n",
       " 'models/checkpoint',\n",
       " 'models/__MACOSX/._checkpoint']"
      ]
     },
     "execution_count": 85,
     "metadata": {},
     "output_type": "execute_result"
    }
   ],
   "source": [
    "url = 'https://drive.google.com/uc?id=1vWscXs4Vt0a_1IH1-ct2TCgXAZT-N3_Y'\n",
    "output = 'checkpoints.zip'\n",
    "gdown.download(url, output, quiet=False)\n",
    "gdown.extractall('checkpoints.zip', 'models')"
   ]
  },
  {
   "cell_type": "code",
   "execution_count": 26,
   "metadata": {
    "tags": []
   },
   "outputs": [
    {
     "data": {
      "text/plain": [
       "<tensorflow.python.checkpoint.checkpoint.CheckpointLoadStatus at 0x7f3be8802510>"
      ]
     },
     "execution_count": 26,
     "metadata": {},
     "output_type": "execute_result"
    }
   ],
   "source": [
    "model.load_weights('models/checkpoint')"
   ]
  },
  {
   "cell_type": "code",
   "execution_count": 27,
   "metadata": {},
   "outputs": [],
   "source": [
    "test_data = test.as_numpy_iterator()"
   ]
  },
  {
   "cell_type": "code",
   "execution_count": 28,
   "metadata": {
    "tags": []
   },
   "outputs": [
    {
     "name": "stderr",
     "output_type": "stream",
     "text": [
      "[mpeg1video @ 0x7f326007e900] ac-tex damaged at 22 17\n",
      "[mpeg1video @ 0x7f326007e900] Warning MVs not available\n"
     ]
    }
   ],
   "source": [
    "sample = test_data.next()"
   ]
  },
  {
   "cell_type": "code",
   "execution_count": 29,
   "metadata": {
    "tags": []
   },
   "outputs": [
    {
     "name": "stderr",
     "output_type": "stream",
     "text": [
      "2024-05-03 10:51:49.701525: I external/local_xla/xla/stream_executor/cuda/cuda_dnn.cc:454] Loaded cuDNN version 8902\n"
     ]
    },
    {
     "name": "stdout",
     "output_type": "stream",
     "text": [
      "1/1 [==============================] - 3s 3s/step\n"
     ]
    }
   ],
   "source": [
    "yhat = model.predict(sample[0])"
   ]
  },
  {
   "cell_type": "code",
   "execution_count": 30,
   "metadata": {
    "tags": []
   },
   "outputs": [
    {
     "name": "stdout",
     "output_type": "stream",
     "text": [
      "~~~~~~~~~~~~~~~~~~~~~~~~~~~~~~~~~~~~~~~~~~~~~~~~~~~~~~~~~~~~~~~~~~~~~~~~~~~~~~~~~~~~~~~~~~~~~~~~~~~~ REAL TEXT\n"
     ]
    },
    {
     "data": {
      "text/plain": [
       "[<tf.Tensor: shape=(), dtype=string, numpy=b'binblueatsonesoon'>,\n",
       " <tf.Tensor: shape=(), dtype=string, numpy=b'setredbyofourplease'>]"
      ]
     },
     "execution_count": 30,
     "metadata": {},
     "output_type": "execute_result"
    }
   ],
   "source": [
    "print('~'*100, 'REAL TEXT')\n",
    "[tf.strings.reduce_join([num_to_char(word) for word in sentence]) for sentence in sample[1]]"
   ]
  },
  {
   "cell_type": "code",
   "execution_count": 31,
   "metadata": {
    "tags": []
   },
   "outputs": [],
   "source": [
    "decoded = tf.keras.backend.ctc_decode(yhat, input_length=[75,75], greedy=True)[0][0].numpy()"
   ]
  },
  {
   "cell_type": "code",
   "execution_count": 32,
   "metadata": {
    "tags": []
   },
   "outputs": [
    {
     "name": "stdout",
     "output_type": "stream",
     "text": [
      "~~~~~~~~~~~~~~~~~~~~~~~~~~~~~~~~~~~~~~~~~~~~~~~~~~~~~~~~~~~~~~~~~~~~~~~~~~~~~~~~~~~~~~~~~~~~~~~~~~~~ PREDICTIONS\n"
     ]
    },
    {
     "data": {
      "text/plain": [
       "[<tf.Tensor: shape=(), dtype=string, numpy=b'binblueatsonesoon'>,\n",
       " <tf.Tensor: shape=(), dtype=string, numpy=b'setredbyofourplease'>]"
      ]
     },
     "execution_count": 32,
     "metadata": {},
     "output_type": "execute_result"
    }
   ],
   "source": [
    "print('~'*100, 'PREDICTIONS')\n",
    "[tf.strings.reduce_join([num_to_char(word) for word in sentence]) for sentence in decoded]"
   ]
  },
  {
   "cell_type": "code",
   "execution_count": 34,
   "metadata": {
    "tags": []
   },
   "outputs": [],
   "source": [
    "sample = load_data(tf.convert_to_tensor('./data/s1/bras9a.mpg'))"
   ]
  },
  {
   "cell_type": "code",
   "execution_count": 35,
   "metadata": {
    "tags": []
   },
   "outputs": [
    {
     "name": "stdout",
     "output_type": "stream",
     "text": [
      "~~~~~~~~~~~~~~~~~~~~~~~~~~~~~~~~~~~~~~~~~~~~~~~~~~~~~~~~~~~~~~~~~~~~~~~~~~~~~~~~~~~~~~~~~~~~~~~~~~~~ REAL TEXT\n"
     ]
    },
    {
     "data": {
      "text/plain": [
       "[<tf.Tensor: shape=(), dtype=string, numpy=b'binredatsnineagain'>]"
      ]
     },
     "execution_count": 35,
     "metadata": {},
     "output_type": "execute_result"
    }
   ],
   "source": [
    "print('~'*100, 'REAL TEXT')\n",
    "[tf.strings.reduce_join([num_to_char(word) for word in sentence]) for sentence in [sample[1]]]"
   ]
  },
  {
   "cell_type": "code",
   "execution_count": 36,
   "metadata": {
    "tags": []
   },
   "outputs": [
    {
     "name": "stdout",
     "output_type": "stream",
     "text": [
      "1/1 [==============================] - 1s 649ms/step\n"
     ]
    }
   ],
   "source": [
    "yhat = model.predict(tf.expand_dims(sample[0], axis=0))"
   ]
  },
  {
   "cell_type": "code",
   "execution_count": 37,
   "metadata": {
    "tags": []
   },
   "outputs": [],
   "source": [
    "decoded = tf.keras.backend.ctc_decode(yhat, input_length=[75], greedy=True)[0][0].numpy()"
   ]
  },
  {
   "cell_type": "code",
   "execution_count": 40,
   "metadata": {
    "tags": []
   },
   "outputs": [
    {
     "name": "stdout",
     "output_type": "stream",
     "text": [
      "~~~~~~~~~~~~~~~~~~~~~~~~~~~~~~~~~~~~~~~~~~~~~~~~~~~~~~~~~~~~~~~~~~~~~~~~~~~~~~~~~~~~~~~~~~~~~~~~~~~~ REAL TEXT\n",
      "~~~~~~~~~~~~~~~~~~~~~~~~~~~~~~~~~~~~~~~~~~~~~~~~~~~~~~~~~~~~~~~~~~~~~~~~~~~~~~~~~~~~~~~~~~~~~~~~~~~~ PREDICTIONS\n"
     ]
    },
    {
     "data": {
      "text/plain": [
       "[<tf.Tensor: shape=(), dtype=string, numpy=b'binredatsnineagain'>]"
      ]
     },
     "execution_count": 40,
     "metadata": {},
     "output_type": "execute_result"
    }
   ],
   "source": [
    "print('~'*100, 'REAL TEXT')\n",
    "[tf.strings.reduce_join([num_to_char(word) for word in sentence]) for sentence in [sample[1]]]"
   ]
  },
  {
   "cell_type": "code",
   "execution_count": 41,
   "metadata": {
    "tags": []
   },
   "outputs": [
    {
     "name": "stdout",
     "output_type": "stream",
     "text": [
      "~~~~~~~~~~~~~~~~~~~~~~~~~~~~~~~~~~~~~~~~~~~~~~~~~~~~~~~~~~~~~~~~~~~~~~~~~~~~~~~~~~~~~~~~~~~~~~~~~~~~ PREDICTIONS\n"
     ]
    },
    {
     "data": {
      "text/plain": [
       "[<tf.Tensor: shape=(), dtype=string, numpy=b'binredatsnineagain'>]"
      ]
     },
     "execution_count": 41,
     "metadata": {},
     "output_type": "execute_result"
    }
   ],
   "source": [
    "print('~'*100, 'PREDICTIONS')\n",
    "[tf.strings.reduce_join([num_to_char(word) for word in sentence]) for sentence in decoded]"
   ]
  },
  {
   "cell_type": "code",
   "execution_count": null,
   "metadata": {},
   "outputs": [],
   "source": []
  }
 ],
 "metadata": {
  "accelerator": "GPU",
  "colab": {
   "collapsed_sections": [
    "dHwI17vpYXWE",
    "0Qu1TUKJYrr1",
    "qaJDi1C1E8XV"
   ],
   "gpuType": "T4",
   "machine_shape": "hm",
   "provenance": []
  },
  "kernelspec": {
   "display_name": "Python 3 (ipykernel)",
   "language": "python",
   "name": "python3"
  },
  "language_info": {
   "codemirror_mode": {
    "name": "ipython",
    "version": 3
   },
   "file_extension": ".py",
   "mimetype": "text/x-python",
   "name": "python",
   "nbconvert_exporter": "python",
   "pygments_lexer": "ipython3",
   "version": "3.11.7"
  }
 },
 "nbformat": 4,
 "nbformat_minor": 4
}
